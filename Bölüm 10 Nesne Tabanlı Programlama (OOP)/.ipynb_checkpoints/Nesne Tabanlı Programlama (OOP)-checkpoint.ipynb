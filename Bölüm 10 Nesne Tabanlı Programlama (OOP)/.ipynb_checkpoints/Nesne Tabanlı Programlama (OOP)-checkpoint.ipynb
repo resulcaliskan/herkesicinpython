{
 "cells": [
  {
   "attachments": {},
   "cell_type": "markdown",
   "metadata": {},
   "source": [
    "## Object-oriented programming(OOP)\n",
    "### Sınıf tanımlamak"
   ]
  },
  {
   "cell_type": "code",
   "execution_count": null,
   "metadata": {},
   "outputs": [],
   "source": [
    "class Araba:\n",
    "    pass"
   ]
  },
  {
   "cell_type": "code",
   "execution_count": null,
   "metadata": {},
   "outputs": [],
   "source": [
    "print(dir(Araba))"
   ]
  },
  {
   "cell_type": "code",
   "execution_count": null,
   "metadata": {},
   "outputs": [],
   "source": [
    "class Araba:\n",
    "    marka = \"\"\n",
    "    model = \"\"\n",
    "    renk = \"\""
   ]
  },
  {
   "cell_type": "code",
   "execution_count": null,
   "metadata": {},
   "outputs": [],
   "source": [
    "print(dir(Araba))"
   ]
  },
  {
   "cell_type": "code",
   "execution_count": null,
   "metadata": {},
   "outputs": [],
   "source": [
    "toyota = Araba()"
   ]
  },
  {
   "cell_type": "code",
   "execution_count": null,
   "metadata": {},
   "outputs": [],
   "source": [
    "type(toyota)"
   ]
  },
  {
   "cell_type": "code",
   "execution_count": null,
   "metadata": {},
   "outputs": [],
   "source": [
    "toyota.marka = \"auris\"\n",
    "toyota.model = \"2020\"\n",
    "toyota.renk = \"gri\""
   ]
  },
  {
   "cell_type": "code",
   "execution_count": null,
   "metadata": {},
   "outputs": [],
   "source": [
    "print(f\"{toyota.marka}|{toyota.model}|{toyota.renk}\")"
   ]
  },
  {
   "cell_type": "code",
   "execution_count": null,
   "metadata": {},
   "outputs": [],
   "source": [
    "print(dir(toyota))"
   ]
  },
  {
   "cell_type": "code",
   "execution_count": null,
   "metadata": {},
   "outputs": [],
   "source": [
    "class Araba:\n",
    "    def __init__(self,marka,model,renk):\n",
    "        self.marka = marka\n",
    "        self.model = model\n",
    "        self.renk = renk\n",
    "        \n",
    "    def çalıştır(self):\n",
    "        return f\"Araç çalışıyor\"\n",
    "    \n",
    "    def durdur(self):\n",
    "        return f\"Araç stop etti.\""
   ]
  },
  {
   "cell_type": "code",
   "execution_count": null,
   "metadata": {},
   "outputs": [],
   "source": [
    "benim_toyota = Araba(\"Auris\",\"2020\",\"Gri\")\n",
    "senin_toyota = Araba(\"Yaris\",\"2019\",\"Kırmızı\")"
   ]
  },
  {
   "cell_type": "code",
   "execution_count": null,
   "metadata": {},
   "outputs": [],
   "source": [
    "print(f\"{benim_toyota.marka}|{benim_toyota.model}|{benim_toyota.çalıştır()}\")\n",
    "print(f\"{senin_toyota.marka}|{senin_toyota.model}|{senin_toyota.durdur()}\")"
   ]
  },
  {
   "attachments": {},
   "cell_type": "markdown",
   "metadata": {},
   "source": [
    "### Inheritance (Miras / Kalıtım)"
   ]
  },
  {
   "cell_type": "code",
   "execution_count": null,
   "metadata": {},
   "outputs": [],
   "source": [
    "class Motor(Araba):\n",
    "    pass"
   ]
  },
  {
   "cell_type": "code",
   "execution_count": null,
   "metadata": {},
   "outputs": [],
   "source": [
    "benim_motosiklet = Motor(\"Honda\",\"Scooter\",\"Kırmızı\")\n",
    "senin_motosiklet = Motor(\"Honda\",\"Touring\",\"Siyah\")"
   ]
  },
  {
   "cell_type": "code",
   "execution_count": null,
   "metadata": {},
   "outputs": [],
   "source": [
    "print(benim_motosiklet.renk)\n",
    "print(senin_motosiklet.çalıştır())"
   ]
  },
  {
   "cell_type": "markdown",
   "metadata": {},
   "source": [
    "### Overriding"
   ]
  },
  {
   "cell_type": "code",
   "execution_count": null,
   "metadata": {},
   "outputs": [],
   "source": [
    "class Motor(Araba):\n",
    "    def __init__(self,marka,model,renk,motor_hacmi):\n",
    "        self.marka = marka\n",
    "        self.model = model\n",
    "        self.renk = renk\n",
    "        self.motor_hacmi = motor_hacmi"
   ]
  },
  {
   "cell_type": "code",
   "execution_count": null,
   "metadata": {},
   "outputs": [],
   "source": [
    "benim_motosiklet = Motor(\"Honda\",\"Scooter\",\"Kırmızı\",250)"
   ]
  },
  {
   "cell_type": "code",
   "execution_count": null,
   "metadata": {},
   "outputs": [],
   "source": [
    "print(benim_motosiklet.motor_hacmi)"
   ]
  },
  {
   "cell_type": "markdown",
   "metadata": {},
   "source": [
    "### Overriding & super()"
   ]
  },
  {
   "cell_type": "code",
   "execution_count": null,
   "metadata": {},
   "outputs": [],
   "source": [
    "class Motor(Araba):\n",
    "    \n",
    "    def __init__(self, marka, model, renk, motor_hacmi):\n",
    "        super().__init__(marka, model, renk)\n",
    "        self.motor_hacmi = motor_hacmi\n"
   ]
  },
  {
   "cell_type": "code",
   "execution_count": null,
   "metadata": {},
   "outputs": [],
   "source": [
    "benim_motosiklet = Motor(\"Honda\",\"Scooter\",\"Kırmızı\",250)"
   ]
  },
  {
   "cell_type": "code",
   "execution_count": null,
   "metadata": {},
   "outputs": [],
   "source": [
    "print(benim_motosiklet.motor_hacmi)\n",
    "print(benim_motosiklet.çalıştır())"
   ]
  },
  {
   "cell_type": "code",
   "execution_count": null,
   "metadata": {},
   "outputs": [],
   "source": [
    "benim_motosiklet.çalıştır()"
   ]
  },
  {
   "cell_type": "markdown",
   "metadata": {},
   "source": [
    "### Sınıf öğelerinde Gizlilik (Encapsulation)  "
   ]
  },
  {
   "cell_type": "code",
   "execution_count": 43,
   "metadata": {},
   "outputs": [],
   "source": [
    "class Kayıt:\n",
    "    def __init__(self,isim,tcn,email):\n",
    "        self.isim = isim\n",
    "        self.__tcn = tcn\n",
    "        self._email = email"
   ]
  },
  {
   "cell_type": "code",
   "execution_count": 44,
   "metadata": {},
   "outputs": [],
   "source": [
    "hakan = Kayıt(\"Hakan\", \"1234\", \"hakan@caliskan.com\")"
   ]
  },
  {
   "cell_type": "code",
   "execution_count": 45,
   "metadata": {},
   "outputs": [
    {
     "name": "stdout",
     "output_type": "stream",
     "text": [
      "Hakan\n"
     ]
    }
   ],
   "source": [
    "print(hakan.isim)"
   ]
  },
  {
   "cell_type": "code",
   "execution_count": 46,
   "metadata": {},
   "outputs": [
    {
     "ename": "AttributeError",
     "evalue": "'Kayıt' object has no attribute '__tcn'",
     "output_type": "error",
     "traceback": [
      "\u001b[1;31m---------------------------------------------------------------------------\u001b[0m",
      "\u001b[1;31mAttributeError\u001b[0m                            Traceback (most recent call last)",
      "\u001b[1;32m<ipython-input-46-f1fc12b0f4d0>\u001b[0m in \u001b[0;36m<module>\u001b[1;34m\u001b[0m\n\u001b[1;32m----> 1\u001b[1;33m \u001b[0mprint\u001b[0m\u001b[1;33m(\u001b[0m\u001b[0mhakan\u001b[0m\u001b[1;33m.\u001b[0m\u001b[0m__tcn\u001b[0m\u001b[1;33m)\u001b[0m\u001b[1;33m\u001b[0m\u001b[1;33m\u001b[0m\u001b[0m\n\u001b[0m\u001b[0;32m      2\u001b[0m \u001b[0mprint\u001b[0m\u001b[1;33m(\u001b[0m\u001b[0mhakan\u001b[0m\u001b[1;33m.\u001b[0m\u001b[0mtcn\u001b[0m\u001b[1;33m)\u001b[0m\u001b[1;33m\u001b[0m\u001b[1;33m\u001b[0m\u001b[0m\n",
      "\u001b[1;31mAttributeError\u001b[0m: 'Kayıt' object has no attribute '__tcn'"
     ]
    }
   ],
   "source": [
    "print(hakan.__tcn)\n",
    "print(hakan.tcn)"
   ]
  },
  {
   "cell_type": "code",
   "execution_count": null,
   "metadata": {},
   "outputs": [],
   "source": [
    "hakan._email"
   ]
  },
  {
   "cell_type": "markdown",
   "metadata": {},
   "source": [
    "### Örnek Uygulama Banka hesabı.\n",
    "BankaHesabı  sınıfı oluşturalım. metodları; bakiyesor, paraçek, parayatır, hesapoluştur olsun. daha sonra miras yoluyla bir vadeli hesap oluşturalım.\n",
    "isterseniz burdaki çözüme bağlı kalmadan  daha fazla özellik ve metod ekleyebilirsiniz. Romaya giden birçok yol vardır. Hangisi kolayınıza gelirse öyle yapın.."
   ]
  },
  {
   "cell_type": "code",
   "execution_count": 106,
   "metadata": {},
   "outputs": [],
   "source": [
    "class BankaHesabı:\n",
    "    \n",
    "    def __init__(self, isim, tcn):\n",
    "        self.isim = isim\n",
    "        self.tcn = tcn\n",
    "        self.bakiye = 0\n",
    "        self.hesaptürü = self.hesapoluştur()\n",
    "    \n",
    "    def hesapoluştur(self, hesaptürü = \"vadesiz\"):\n",
    "        return hesaptürü\n",
    "    \n",
    "    def bakiyesor(self):\n",
    "        return f\"Hesabınızda {self.bakiye}TL para vardır.\"\n",
    "    \n",
    "    def paraçek(self,miktar):\n",
    "        if miktar<self.bakiye:\n",
    "            self.bakiye -= miktar\n",
    "            print(f\"{miktar}TL para çekme başarılı.\\nKalan bakiyeniz:{self.bakiye}\")\n",
    "            \n",
    "        else:\n",
    "            print(f\"Bakiyeniz yetersiz.\")\n",
    "    \n",
    "    def parayatır(self, miktar):\n",
    "        self.bakiye += miktar\n",
    "        print(f\"yeni bakiyeniz :{self.bakiye}TL\")\n",
    "        "
   ]
  },
  {
   "cell_type": "code",
   "execution_count": 107,
   "metadata": {},
   "outputs": [],
   "source": [
    "müşteri01=BankaHesabı(\"Kaan Çalışkan\",\"12345\")"
   ]
  },
  {
   "cell_type": "code",
   "execution_count": 108,
   "metadata": {},
   "outputs": [
    {
     "name": "stdout",
     "output_type": "stream",
     "text": [
      "yeni bakiyeniz :1000TL\n"
     ]
    }
   ],
   "source": [
    "müşteri01.parayatır(1000)"
   ]
  },
  {
   "cell_type": "code",
   "execution_count": 109,
   "metadata": {},
   "outputs": [
    {
     "name": "stdout",
     "output_type": "stream",
     "text": [
      "300TL para çekme başarılı.\n",
      "Kalan bakiyeniz:700\n"
     ]
    }
   ],
   "source": [
    "müşteri01.paraçek(300)"
   ]
  },
  {
   "cell_type": "code",
   "execution_count": 110,
   "metadata": {},
   "outputs": [
    {
     "name": "stdout",
     "output_type": "stream",
     "text": [
      "yeni bakiyeniz :1200TL\n"
     ]
    }
   ],
   "source": [
    "müşteri01.parayatır(500)"
   ]
  },
  {
   "cell_type": "code",
   "execution_count": 111,
   "metadata": {},
   "outputs": [
    {
     "data": {
      "text/plain": [
       "'Hesabınızda 1200TL para vardır.'"
      ]
     },
     "execution_count": 111,
     "metadata": {},
     "output_type": "execute_result"
    }
   ],
   "source": [
    "müşteri01.bakiyesor()"
   ]
  },
  {
   "cell_type": "code",
   "execution_count": 112,
   "metadata": {},
   "outputs": [
    {
     "data": {
      "text/plain": [
       "'vadesiz'"
      ]
     },
     "execution_count": 112,
     "metadata": {},
     "output_type": "execute_result"
    }
   ],
   "source": [
    "müşteri01.hesaptürü"
   ]
  },
  {
   "cell_type": "code",
   "execution_count": 113,
   "metadata": {},
   "outputs": [],
   "source": [
    "class VadesizHesap(BankaHesabı):\n",
    "    def __init__(self,isim, tcn, vade):\n",
    "        super().__init__(isim,tcn)\n",
    "        self.vade = vade\n",
    "        \n",
    "    def hesapoluştur(self, hesaptürü=\"vadeli\"):\n",
    "        return hesaptürü\n",
    "        "
   ]
  },
  {
   "cell_type": "code",
   "execution_count": 114,
   "metadata": {},
   "outputs": [],
   "source": [
    "müşteri02= VadesizHesap(\"Kaan Çalışkan\",\"12345\",24)"
   ]
  },
  {
   "cell_type": "code",
   "execution_count": 115,
   "metadata": {},
   "outputs": [
    {
     "name": "stdout",
     "output_type": "stream",
     "text": [
      "yeni bakiyeniz :2000TL\n"
     ]
    }
   ],
   "source": [
    "müşteri02.parayatır(2000)"
   ]
  },
  {
   "cell_type": "code",
   "execution_count": 116,
   "metadata": {},
   "outputs": [
    {
     "data": {
      "text/plain": [
       "'vadeli'"
      ]
     },
     "execution_count": 116,
     "metadata": {},
     "output_type": "execute_result"
    }
   ],
   "source": [
    "müşteri02.hesaptürü"
   ]
  },
  {
   "cell_type": "code",
   "execution_count": 117,
   "metadata": {},
   "outputs": [
    {
     "data": {
      "text/plain": [
       "'vadesiz'"
      ]
     },
     "execution_count": 117,
     "metadata": {},
     "output_type": "execute_result"
    }
   ],
   "source": [
    "müşteri01.hesaptürü"
   ]
  },
  {
   "cell_type": "code",
   "execution_count": 118,
   "metadata": {},
   "outputs": [
    {
     "name": "stdout",
     "output_type": "stream",
     "text": [
      "700TL para çekme başarılı.\n",
      "Kalan bakiyeniz:1300\n"
     ]
    }
   ],
   "source": [
    "müşteri02.paraçek(700)"
   ]
  },
  {
   "cell_type": "code",
   "execution_count": 119,
   "metadata": {},
   "outputs": [
    {
     "name": "stdout",
     "output_type": "stream",
     "text": [
      "Bakiyeniz yetersiz.\n"
     ]
    }
   ],
   "source": [
    "müşteri02.paraçek(1500)"
   ]
  },
  {
   "cell_type": "code",
   "execution_count": null,
   "metadata": {},
   "outputs": [],
   "source": []
  }
 ],
 "metadata": {
  "kernelspec": {
   "display_name": "Python 3",
   "language": "python",
   "name": "python3"
  },
  "language_info": {
   "codemirror_mode": {
    "name": "ipython",
    "version": 3
   },
   "file_extension": ".py",
   "mimetype": "text/x-python",
   "name": "python",
   "nbconvert_exporter": "python",
   "pygments_lexer": "ipython3",
   "version": "3.7.4"
  }
 },
 "nbformat": 4,
 "nbformat_minor": 4
}
