{
 "cells": [
  {
   "cell_type": "markdown",
   "metadata": {},
   "source": [
    "# 1- Önemli Fonksiyonlar\n",
    "    built-in functions, lambda, map, filter, enumerate, zip...\n",
    "___\n",
    "# 2- Exception Handling\n",
    "    try-except-finally\n",
    "___\n",
    "# 3- List Comprehensions\n",
    "    list,Set,Dict Comprehensions\n",
    "___"
   ]
  },
  {
   "cell_type": "markdown",
   "metadata": {},
   "source": [
    "# 1- Önemli Fonksiyonlar\n",
    "## Built-in functions\n",
    "### len(), min(), max(), sum() fonksiyonları"
   ]
  },
  {
   "cell_type": "code",
   "execution_count": null,
   "metadata": {},
   "outputs": [],
   "source": [
    "liste = [45,35,15,55,65,75,25]"
   ]
  },
  {
   "cell_type": "code",
   "execution_count": null,
   "metadata": {},
   "outputs": [],
   "source": [
    "len(liste)"
   ]
  },
  {
   "cell_type": "code",
   "execution_count": null,
   "metadata": {},
   "outputs": [],
   "source": [
    "len(\"Merhaba\")"
   ]
  },
  {
   "cell_type": "code",
   "execution_count": null,
   "metadata": {},
   "outputs": [],
   "source": [
    "min(liste)"
   ]
  },
  {
   "cell_type": "code",
   "execution_count": null,
   "metadata": {},
   "outputs": [],
   "source": [
    "max(liste)"
   ]
  },
  {
   "cell_type": "code",
   "execution_count": null,
   "metadata": {},
   "outputs": [],
   "source": [
    "sum(liste)"
   ]
  },
  {
   "cell_type": "code",
   "execution_count": null,
   "metadata": {},
   "outputs": [],
   "source": [
    "sum((1,2,3,4))"
   ]
  },
  {
   "cell_type": "markdown",
   "metadata": {},
   "source": [
    "### lambda fonksiyonu\n",
    "    lambda arguments : expression"
   ]
  },
  {
   "cell_type": "code",
   "execution_count": null,
   "metadata": {},
   "outputs": [],
   "source": [
    "# kare alan fonk. yazalım.\n",
    "def kare(n):\n",
    "    result = n*n\n",
    "    return result\n",
    "\n",
    "kare(3)"
   ]
  },
  {
   "cell_type": "code",
   "execution_count": null,
   "metadata": {},
   "outputs": [],
   "source": [
    "kare = lambda n : n*n"
   ]
  },
  {
   "cell_type": "code",
   "execution_count": null,
   "metadata": {},
   "outputs": [],
   "source": [
    "kare(4)"
   ]
  },
  {
   "cell_type": "code",
   "execution_count": null,
   "metadata": {},
   "outputs": [],
   "source": [
    "# toplama fonk. yazalım.\n",
    "toplama = lambda a,b : a+b\n",
    "toplama(2,3)"
   ]
  },
  {
   "cell_type": "code",
   "execution_count": null,
   "metadata": {},
   "outputs": [],
   "source": []
  },
  {
   "cell_type": "code",
   "execution_count": null,
   "metadata": {},
   "outputs": [],
   "source": [
    "# selam veren fonk. yazalım.\n",
    "selam = lambda s : \"Merhaba \"+ s\n",
    "selam(\"Hakan\")"
   ]
  },
  {
   "cell_type": "markdown",
   "metadata": {},
   "source": [
    "### map() fonksiyonu\n",
    "    map(function, iterables)"
   ]
  },
  {
   "cell_type": "code",
   "execution_count": null,
   "metadata": {},
   "outputs": [],
   "source": [
    "# isimleri büyük harfe çevirelim:\n",
    "liste = [\"Hakan\",\"Kaan\",\"Soner\"]\n",
    "def uppercase(s):\n",
    "    return s.upper()"
   ]
  },
  {
   "cell_type": "code",
   "execution_count": null,
   "metadata": {},
   "outputs": [],
   "source": [
    "l = map(uppercase, liste)\n",
    "list(l)"
   ]
  },
  {
   "cell_type": "code",
   "execution_count": null,
   "metadata": {},
   "outputs": [],
   "source": [
    "# lambda kullanarak yapalım:\n",
    "l = map(lambda s : s.upper(), liste)\n",
    "list(l)"
   ]
  },
  {
   "cell_type": "code",
   "execution_count": null,
   "metadata": {},
   "outputs": [],
   "source": []
  },
  {
   "cell_type": "markdown",
   "metadata": {},
   "source": [
    "### filter() Fonksiyonu\n",
    "    filter(function, iterable)"
   ]
  },
  {
   "cell_type": "code",
   "execution_count": null,
   "metadata": {},
   "outputs": [],
   "source": [
    "ages = [30,15,17,28,18,40,14]\n",
    "def onay(n):\n",
    "    if n>=18:\n",
    "        return True\n",
    "    else:\n",
    "        return False\n",
    "\n",
    "l = filter(onay, ages)\n",
    "list(l)"
   ]
  },
  {
   "cell_type": "code",
   "execution_count": null,
   "metadata": {},
   "outputs": [],
   "source": [
    "# lambda kullanarak  yazdırma:\n",
    "l = filter(lambda n : n<18, ages)\n",
    "list(l)"
   ]
  },
  {
   "cell_type": "code",
   "execution_count": null,
   "metadata": {},
   "outputs": [],
   "source": []
  },
  {
   "cell_type": "markdown",
   "metadata": {},
   "source": [
    "### enumerate() Fonksiyonu\n",
    "    enumerate(iterable, start)"
   ]
  },
  {
   "cell_type": "code",
   "execution_count": null,
   "metadata": {},
   "outputs": [],
   "source": [
    "manav = [\"elma\",\"armut\",\"kiraz\",\"karpuz\"]\n",
    "liste = enumerate(manav)\n",
    "dict(liste)"
   ]
  },
  {
   "cell_type": "code",
   "execution_count": null,
   "metadata": {},
   "outputs": [],
   "source": []
  },
  {
   "cell_type": "code",
   "execution_count": null,
   "metadata": {},
   "outputs": [],
   "source": [
    "# for döngüsü ile yazdıralım:\n",
    "for k,v in enumerate(manav,1):\n",
    "    print(k,v)"
   ]
  },
  {
   "cell_type": "markdown",
   "metadata": {},
   "source": [
    "### zip() Function\n",
    "    zip(iterator1, iterator2, etc...)"
   ]
  },
  {
   "cell_type": "code",
   "execution_count": null,
   "metadata": {},
   "outputs": [],
   "source": [
    "isim = [\"Hakan\",\"Kaan\",\"Zeynep\",\"Ayşe\"]\n",
    "yaş = [36,28,35,26]\n",
    "sıra = [1,2,3,4,5,6,7,8]\n",
    "\n",
    "liste = zip(sıra,isim,yaş)\n",
    "list(liste)"
   ]
  },
  {
   "cell_type": "code",
   "execution_count": null,
   "metadata": {},
   "outputs": [],
   "source": [
    "isim = [\"Hakan\",\"Kaan\",\"Zeynep\",\"Ayşe\"]\n",
    "yaş = [36,28,35,26]\n",
    "sıra = [1,2,3,4]\n",
    "\n",
    "liste = zip(sıra,zip(isim,yaş))\n",
    "dict(liste)"
   ]
  },
  {
   "cell_type": "code",
   "execution_count": null,
   "metadata": {},
   "outputs": [],
   "source": [
    "# for döngüsü ile yazdıralaım:\n",
    "isim = [\"Hakan\",\"Kaan\",\"Zeynep\",\"Ayşe\"]\n",
    "yaş = [36,28,35,26]\n",
    "sıra = [1,2,3,4,5,6,7,8]\n",
    "\n",
    "for i,k,v in list(zip(sıra,isim,yaş)):\n",
    "    print(i,k,v)"
   ]
  },
  {
   "cell_type": "code",
   "execution_count": null,
   "metadata": {},
   "outputs": [],
   "source": []
  },
  {
   "cell_type": "code",
   "execution_count": null,
   "metadata": {},
   "outputs": [],
   "source": []
  },
  {
   "cell_type": "code",
   "execution_count": null,
   "metadata": {},
   "outputs": [],
   "source": []
  },
  {
   "cell_type": "markdown",
   "metadata": {},
   "source": [
    "# 2- Exception Handling\n",
    "   ### try - except - finally"
   ]
  },
  {
   "cell_type": "code",
   "execution_count": null,
   "metadata": {},
   "outputs": [],
   "source": [
    "def bölme():\n",
    "    a = input(\"a sayısı:\")\n",
    "    b = input(\"b sayısı:\")\n",
    "    işlem = int(a)/int(b)\n",
    "    print(işlem)\n",
    "    "
   ]
  },
  {
   "cell_type": "code",
   "execution_count": null,
   "metadata": {},
   "outputs": [],
   "source": [
    "bölme()"
   ]
  },
  {
   "cell_type": "code",
   "execution_count": null,
   "metadata": {},
   "outputs": [],
   "source": [
    "def bölme():\n",
    "    try:\n",
    "        a = input(\"a sayısı:\")\n",
    "        b = input(\"b sayısı:\")\n",
    "        işlem = int(a)/int(b)\n",
    "        print(işlem)\n",
    "    except ZeroDivisionError:\n",
    "        print(\"b sayısı sıfır olamaz.\")"
   ]
  },
  {
   "cell_type": "code",
   "execution_count": null,
   "metadata": {},
   "outputs": [],
   "source": [
    "bölme()"
   ]
  },
  {
   "cell_type": "code",
   "execution_count": null,
   "metadata": {},
   "outputs": [],
   "source": [
    "def bölme():\n",
    "    try:\n",
    "        a = input(\"a sayısı:\")\n",
    "        b = input(\"b sayısı:\")\n",
    "        işlem = int(a)/int(b)\n",
    "        print(işlem)\n",
    "    except ZeroDivisionError:\n",
    "        print(\"b sayısı sıfır olamaz.\")\n",
    "    except ValueError:\n",
    "        print(\"Rakam giriniz.\")"
   ]
  },
  {
   "cell_type": "code",
   "execution_count": null,
   "metadata": {},
   "outputs": [],
   "source": [
    "bölme()"
   ]
  },
  {
   "cell_type": "code",
   "execution_count": null,
   "metadata": {},
   "outputs": [],
   "source": [
    "def bölme():\n",
    "    try:\n",
    "        a = input(\"a sayısı:\")\n",
    "        b = input(\"b sayısı:\")\n",
    "        işlem = int(a)/int(b)\n",
    "        print(işlem)\n",
    "    except (ZeroDivisionError,ValueError) as err:\n",
    "        print(\"Hata Var:\",err)\n"
   ]
  },
  {
   "cell_type": "code",
   "execution_count": null,
   "metadata": {},
   "outputs": [],
   "source": [
    "bölme()"
   ]
  },
  {
   "cell_type": "code",
   "execution_count": null,
   "metadata": {},
   "outputs": [],
   "source": [
    "bölme()"
   ]
  },
  {
   "cell_type": "code",
   "execution_count": null,
   "metadata": {},
   "outputs": [],
   "source": [
    "def bölme():\n",
    "    try:\n",
    "        a = input(\"a sayısı:\")\n",
    "        b = input(\"b sayısı:\")\n",
    "        işlem = int(a)/int(b)\n",
    "        print(işlem)\n",
    "    except Exception as err:\n",
    "        print(\"Hata Var:\",err)\n",
    "    finally:\n",
    "        print(\"Bölme işlemi bitti.\")\n",
    "        "
   ]
  },
  {
   "cell_type": "code",
   "execution_count": null,
   "metadata": {},
   "outputs": [],
   "source": [
    "bölme()"
   ]
  },
  {
   "cell_type": "code",
   "execution_count": null,
   "metadata": {},
   "outputs": [],
   "source": []
  },
  {
   "cell_type": "code",
   "execution_count": null,
   "metadata": {},
   "outputs": [],
   "source": []
  },
  {
   "cell_type": "markdown",
   "metadata": {},
   "source": [
    "# 3- List Comprehensions"
   ]
  },
  {
   "cell_type": "markdown",
   "metadata": {},
   "source": [
    "    [ expression for item in list if conditional ]"
   ]
  },
  {
   "cell_type": "code",
   "execution_count": null,
   "metadata": {},
   "outputs": [],
   "source": [
    "# 1..10 kadar sayıların küpünü yazdıralım:\n",
    "# klasik yöntem:\n",
    "listeKüp = []\n",
    "for i in range(10):\n",
    "    küp = i**3\n",
    "    listeKüp.append(küp)\n",
    "print(listeKüp)"
   ]
  },
  {
   "cell_type": "code",
   "execution_count": null,
   "metadata": {},
   "outputs": [],
   "source": [
    "listeKüp = map(lambda n : n**3, range(10))\n",
    "list(listeKüp)"
   ]
  },
  {
   "cell_type": "code",
   "execution_count": null,
   "metadata": {},
   "outputs": [],
   "source": [
    "listeKüp = [i**3 for i in range(10)]\n",
    "listeKüp"
   ]
  },
  {
   "cell_type": "markdown",
   "metadata": {},
   "source": [
    "    [ expression for item in list if conditional ]"
   ]
  },
  {
   "cell_type": "code",
   "execution_count": null,
   "metadata": {},
   "outputs": [],
   "source": [
    "# liste elemanlarını büyük harf yapalım:\n",
    "liste = [\"Hakan\",\"Kaan\",\"Soner\"]\n",
    "isim = [ isim.upper() for isim in liste if \"a\" in isim]\n",
    "isim"
   ]
  },
  {
   "cell_type": "code",
   "execution_count": null,
   "metadata": {},
   "outputs": [],
   "source": []
  },
  {
   "cell_type": "markdown",
   "metadata": {},
   "source": [
    "    [ expression for item in list if conditional ]"
   ]
  },
  {
   "cell_type": "code",
   "execution_count": null,
   "metadata": {},
   "outputs": [],
   "source": [
    "# text içindeki sesli harfleri yazadıralım: set-tuple da kullanalım.\n",
    "text = \"Python programlama dili.\"\n",
    "t = (char for char in text if char in \"aeıiuüoö\")\n",
    "tuple(t)"
   ]
  },
  {
   "cell_type": "code",
   "execution_count": null,
   "metadata": {},
   "outputs": [],
   "source": []
  },
  {
   "cell_type": "code",
   "execution_count": null,
   "metadata": {},
   "outputs": [],
   "source": [
    "# 0..20 arası çift/tek sayıları yazdıralım:\n",
    "liste = [i for i in range(20) if i%2==0]\n",
    "liste"
   ]
  },
  {
   "cell_type": "code",
   "execution_count": null,
   "metadata": {},
   "outputs": [],
   "source": [
    "liste = [i for i in range(20) if i%2==1]\n",
    "liste"
   ]
  },
  {
   "cell_type": "code",
   "execution_count": null,
   "metadata": {},
   "outputs": [],
   "source": [
    "# 4'lü matrix oluşturalım.\n",
    "matrix = [[(x,y) for x in range(4)]for y in range(4)]\n",
    "matrix"
   ]
  },
  {
   "cell_type": "code",
   "execution_count": null,
   "metadata": {},
   "outputs": [],
   "source": []
  },
  {
   "cell_type": "code",
   "execution_count": null,
   "metadata": {},
   "outputs": [],
   "source": []
  },
  {
   "cell_type": "code",
   "execution_count": null,
   "metadata": {},
   "outputs": [],
   "source": []
  }
 ],
 "metadata": {
  "kernelspec": {
   "display_name": "Python 3",
   "language": "python",
   "name": "python3"
  },
  "language_info": {
   "codemirror_mode": {
    "name": "ipython",
    "version": 3
   },
   "file_extension": ".py",
   "mimetype": "text/x-python",
   "name": "python",
   "nbconvert_exporter": "python",
   "pygments_lexer": "ipython3",
   "version": "3.7.4"
  }
 },
 "nbformat": 4,
 "nbformat_minor": 4
}
