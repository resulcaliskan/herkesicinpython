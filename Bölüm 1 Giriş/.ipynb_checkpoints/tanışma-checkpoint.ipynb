{
 "cells": [
  {
   "cell_type": "markdown",
   "metadata": {},
   "source": [
    "### Örnek Uygulama"
   ]
  },
  {
   "cell_type": "raw",
   "metadata": {},
   "source": [
    "Herkes için python kursuna hoş geldin\n",
    "lütfen isminizi giriniz :Hakan\n",
    "Merhaba  Hakan\n",
    "Kaç yaşındasın :18\n",
    "Tahminime göre doğum yılın: 2002\n",
    "Tekrar görüşmek üzere hoşcakalın"
   ]
  },
  {
   "cell_type": "code",
   "execution_count": 8,
   "metadata": {},
   "outputs": [
    {
     "name": "stdout",
     "output_type": "stream",
     "text": [
      "Herkes için python kursuna hoş geldin\n",
      "lütfen isminizi giriniz :Kaan\n",
      "Merhaba Kaan\n",
      "Kaç yaşındasın :30\n",
      "Tahminime göre doğum yılın: 1990\n",
      "Tekrar görüşmek üzere hoşcakalın\n"
     ]
    }
   ],
   "source": [
    "print(\"Herkes için python kursuna hoş geldin\")\n",
    "isim = input(\"lütfen isminizi giriniz :\")\n",
    "print(\"Merhaba\",isim)\n",
    "\n",
    "yaş = input(\"Kaç yaşındasın :\")\n",
    "doğum_yılı = 2020-int(yaş) # yaş değ. int olarak çevirdik.2.Bölümde anlatılacak.\n",
    "print(\"Tahminime göre doğum yılın:\", doğum_yılı)\n",
    "print(\"Tekrar görüşmek üzere hoşcakalın\")"
   ]
  },
  {
   "cell_type": "code",
   "execution_count": null,
   "metadata": {},
   "outputs": [],
   "source": []
  },
  {
   "cell_type": "code",
   "execution_count": null,
   "metadata": {},
   "outputs": [],
   "source": [
    "# taşışma.ipynb dosyası ilk örnek uygulama programı, \n",
    "# input - print - int fonksiyonları kullanılmıştır.\n",
    "\n",
    "print(\"Herkes için python kursuna hoş geldin\")  # ekrana yazdırır.\n",
    "isim = input(\"lütfen isminizi giriniz :\")       # kullanıcıdan isim değişkeni için değer girilmesini ister.\n",
    "print(\"Merhaba \",isim)                          # isim değ. ekrana yazdırır.\n",
    "\n",
    "yaş= input(\"Kaç yaşındasın :\")                  # kullanıcı yaşını yaş değişkenine atar.\n",
    "doğumyılı = 2020-int(yaş)                       # yaş değ.int.değere çevirip, doğum yılını hesaplar.\n",
    "print(\"Tahminime göre doğum yılın:\",doğumyılı)  # doğumyılı değ. ekrana yazdırır.\n",
    "\n",
    "print(\"Tekrar görüşmek üzere hoşcakalın\")\n"
   ]
  },
  {
   "cell_type": "code",
   "execution_count": null,
   "metadata": {},
   "outputs": [],
   "source": []
  }
 ],
 "metadata": {
  "kernelspec": {
   "display_name": "Python 3",
   "language": "python",
   "name": "python3"
  },
  "language_info": {
   "codemirror_mode": {
    "name": "ipython",
    "version": 3
   },
   "file_extension": ".py",
   "mimetype": "text/x-python",
   "name": "python",
   "nbconvert_exporter": "python",
   "pygments_lexer": "ipython3",
   "version": "3.7.4"
  }
 },
 "nbformat": 4,
 "nbformat_minor": 4
}
