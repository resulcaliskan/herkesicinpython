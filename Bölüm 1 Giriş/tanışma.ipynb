{
 "cells": [
  {
   "cell_type": "markdown",
   "metadata": {},
   "source": [
    "### Örnek Uygulama"
   ]
  },
  {
   "cell_type": "code",
   "execution_count": null,
   "metadata": {},
   "outputs": [],
   "source": [
    "#! tanışma.ipynb\n",
    "# İlk örnek uygulama programı, \n",
    "# input ve print fonksiyonları ile hazırlanmıştır.\n",
    "\n",
    "print(\"Herkes için python kursuna hoş geldin\")  # ekrana yazdırır.\n",
    "isim = input(\"lütfen isminizi giriniz :\")       # kullanıcıdan isim değişkeni için değer girilmesini ister.\n",
    "print(\"Merhaba \",isim)\n",
    "yaş= input(\"Kaç yaşındasın :\")                  # kullanıcı yaşını yaş değişkenine atar.\n",
    "doğumyılı = 2020-int(yaş)                       # doğum yılını hesaplar.\n",
    "print(\"Tahminime göre doğum yılın:\",doğumyılı)\n",
    "print(\"Tekrar görüşmek üzere hoşcakalın\")\n"
   ]
  }
 ],
 "metadata": {
  "kernelspec": {
   "display_name": "Python 3",
   "language": "python",
   "name": "python3"
  },
  "language_info": {
   "codemirror_mode": {
    "name": "ipython",
    "version": 3
   },
   "file_extension": ".py",
   "mimetype": "text/x-python",
   "name": "python",
   "nbconvert_exporter": "python",
   "pygments_lexer": "ipython3",
   "version": "3.8.1"
  }
 },
 "nbformat": 4,
 "nbformat_minor": 4
}
