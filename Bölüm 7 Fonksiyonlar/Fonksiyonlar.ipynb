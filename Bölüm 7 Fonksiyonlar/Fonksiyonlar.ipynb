{
 "cells": [
  {
   "cell_type": "markdown",
   "metadata": {},
   "source": [
    "### Fonksiyon oluşturma ve çağırma (invoke)"
   ]
  },
  {
   "cell_type": "code",
   "execution_count": null,
   "metadata": {},
   "outputs": [],
   "source": [
    "def toplam(a,b):\n",
    "    \"\"\"a ve b parametrelerinin toplamını verir\"\"\"\n",
    "    sonuç = a + b\n",
    "    return sonuç"
   ]
  },
  {
   "cell_type": "code",
   "execution_count": null,
   "metadata": {},
   "outputs": [],
   "source": [
    "type(toplam)"
   ]
  },
  {
   "cell_type": "code",
   "execution_count": null,
   "metadata": {
    "scrolled": true
   },
   "outputs": [],
   "source": [
    "toplam"
   ]
  },
  {
   "cell_type": "code",
   "execution_count": null,
   "metadata": {},
   "outputs": [],
   "source": [
    "help(toplam)"
   ]
  },
  {
   "cell_type": "code",
   "execution_count": null,
   "metadata": {},
   "outputs": [],
   "source": [
    "toplam(10,20)"
   ]
  },
  {
   "cell_type": "markdown",
   "metadata": {},
   "source": [
    "### Parametreler ve Argümanlar ve return"
   ]
  },
  {
   "cell_type": "code",
   "execution_count": null,
   "metadata": {},
   "outputs": [],
   "source": [
    "iki_sayı_toplamı = toplam(10,20)"
   ]
  },
  {
   "cell_type": "code",
   "execution_count": null,
   "metadata": {},
   "outputs": [],
   "source": [
    "print(iki_sayı_toplamı)"
   ]
  },
  {
   "cell_type": "code",
   "execution_count": null,
   "metadata": {},
   "outputs": [],
   "source": [
    "def selam():\n",
    "    print(\"Merhaba!\")"
   ]
  },
  {
   "cell_type": "code",
   "execution_count": null,
   "metadata": {},
   "outputs": [],
   "source": [
    "selamsöyle=selam()"
   ]
  },
  {
   "cell_type": "code",
   "execution_count": null,
   "metadata": {},
   "outputs": [],
   "source": [
    "print(selamsöyle)"
   ]
  },
  {
   "cell_type": "markdown",
   "metadata": {},
   "source": [
    "### varsayılan değere sahip parametreli fonksiyon"
   ]
  },
  {
   "cell_type": "code",
   "execution_count": null,
   "metadata": {},
   "outputs": [],
   "source": [
    "def kayıt(isim, meslek, ülke):\n",
    "    print(f\"isim:{isim} meslek:{meslek} ülke {ülke} olarak kaydınız yapıldı.\" )"
   ]
  },
  {
   "cell_type": "code",
   "execution_count": null,
   "metadata": {},
   "outputs": [],
   "source": [
    "kayıt(\"hakan\",\"öğrenci\",\"Romanya\")"
   ]
  },
  {
   "cell_type": "code",
   "execution_count": null,
   "metadata": {},
   "outputs": [],
   "source": [
    "def kayıt(isim, meslek, ülke=\"Türkiye\"):\n",
    "    print(f\"isim:{isim} meslek:{meslek} ülke {ülke} olarak kaydınız yapıldı.\" )"
   ]
  },
  {
   "cell_type": "code",
   "execution_count": null,
   "metadata": {},
   "outputs": [],
   "source": [
    "kayıt(\"hakan\",\"öğrenci\")"
   ]
  },
  {
   "cell_type": "code",
   "execution_count": null,
   "metadata": {},
   "outputs": [],
   "source": [
    "# print fonksiyonunu inceleyelim.\n",
    "print()"
   ]
  },
  {
   "cell_type": "markdown",
   "metadata": {},
   "source": [
    "### args ve kwargs ifadeler "
   ]
  },
  {
   "cell_type": "code",
   "execution_count": null,
   "metadata": {},
   "outputs": [],
   "source": [
    "def toplam(*args):\n",
    "    \"\"\"seri halinde verilen parametrelerinin toplamını verir\"\"\"\n",
    "    sonuç = 0\n",
    "    for i in args:\n",
    "        sonuç +=i\n",
    "    return sonuç"
   ]
  },
  {
   "cell_type": "code",
   "execution_count": null,
   "metadata": {},
   "outputs": [],
   "source": [
    "toplam(1,2,3,4,5)"
   ]
  },
  {
   "cell_type": "code",
   "execution_count": null,
   "metadata": {},
   "outputs": [],
   "source": [
    "def kayıt_yap(**kwargs):\n",
    "    print(kwargs)"
   ]
  },
  {
   "cell_type": "code",
   "execution_count": null,
   "metadata": {},
   "outputs": [],
   "source": [
    "kayıt_yap(isim=\"hakan\", yaş=18, meslek=\"öğrenci\")"
   ]
  },
  {
   "cell_type": "code",
   "execution_count": null,
   "metadata": {},
   "outputs": [],
   "source": [
    "sözlük = {\"isim\":\"kaan\",\"yaş\":20}\n",
    "kayıt_yap(**sözlük)"
   ]
  },
  {
   "cell_type": "markdown",
   "metadata": {},
   "source": [
    "### Scope Kavramı "
   ]
  },
  {
   "cell_type": "code",
   "execution_count": null,
   "metadata": {},
   "outputs": [],
   "source": [
    "a = 10\n",
    "print(f\"fonksiyondan önce a:{a}\")\n",
    "\n",
    "def fonksiyon():\n",
    "    a = 20\n",
    "    print(f\"fonksiyon içinde a:{a}\")\n",
    "    \n",
    "fonksiyon()\n",
    "print(f\"fonksiyondan sonra a:{a}\")"
   ]
  },
  {
   "cell_type": "code",
   "execution_count": null,
   "metadata": {},
   "outputs": [],
   "source": []
  },
  {
   "cell_type": "code",
   "execution_count": null,
   "metadata": {},
   "outputs": [],
   "source": [
    "a = 10\n",
    "print(f\"fonksiyondan önce a:{a}\")\n",
    "\n",
    "def fonksiyon():\n",
    "    global a\n",
    "    a = 20\n",
    "    print(f\"fonksiyon içinde a:{a}\")\n",
    "    \n",
    "fonksiyon()\n",
    "print(f\"fonksiyondan sonra a:{a}\")"
   ]
  },
  {
   "cell_type": "markdown",
   "metadata": {},
   "source": [
    "### Örnek Uygulama"
   ]
  },
  {
   "cell_type": "raw",
   "metadata": {},
   "source": [
    "\"\"\"Ücret hesaplama programı\n",
    "Fonksiyon üç parametre alır. \n",
    "ilk parametre işcinin toplam çalışma saatini\n",
    "ikinci parametre bir saatlik çalışma ücretini\n",
    "üçüncü parametre ise isteğe bağlı yüzde zam oranını gösterir.\n",
    "fonksiyon işcinin alacağı parayı hesaplar ve sonucu return yapar.\"\"\""
   ]
  },
  {
   "cell_type": "code",
   "execution_count": null,
   "metadata": {},
   "outputs": [],
   "source": [
    "def maaş_hesapla(toplam_çalışma_saati, bir_saatlik_ücret, zam_oranı):\n",
    "    pass \n",
    "\n",
    "#toplam_maaş = toplam_çalışma_saati * bir_saatlik_ücret\n",
    "#toplam_zamlı_maaş = toplam_maaş+(toplam_maaş*zam_oranı)/100\n",
    "#aşağıdaki değerleri girerek sonucu kontrol edelim:"
   ]
  },
  {
   "cell_type": "code",
   "execution_count": null,
   "metadata": {
    "scrolled": true
   },
   "outputs": [],
   "source": [
    "print(maaş_hesapla(25,50))"
   ]
  },
  {
   "cell_type": "code",
   "execution_count": null,
   "metadata": {
    "scrolled": true
   },
   "outputs": [],
   "source": [
    "print(maaş_hesapla(25,50,15))"
   ]
  },
  {
   "cell_type": "code",
   "execution_count": null,
   "metadata": {},
   "outputs": [],
   "source": [
    "def maaş_hesapla(toplam_çalışma_saati, bir_saatlik_ücret, zam_oranı=0):\n",
    "    \"\"\"fonksiyon iki zorunlu bir isteğe bağlı parametre alır tek değer döner...\"\"\"\n",
    "    maaş = toplam_çalışma_saati*bir_saatlik_ücret\n",
    "    \n",
    "    if zam_oranı:\n",
    "        zamlı_maaş = maaş+(maaş*zam_oranı)/100\n",
    "        return f\"Toplam çalışma saatiniz: {toplam_çalışma_saati} \\nBir saatlik çalışma üçreti :{bir_saatlik_ücret} \\nHesaplanmış Zamlı Maaş : {zamlı_maaş}\"\n",
    "    return f\"Toplam çalışma saatiniz: {toplam_çalışma_saati} \\nBir saatlik çalışma üçreti :{bir_saatlik_ücret} \\nHesaplanmış Maaş : {maaş}\"\n"
   ]
  },
  {
   "cell_type": "code",
   "execution_count": null,
   "metadata": {},
   "outputs": [],
   "source": [
    "print(maaş_hesapla(25,50))"
   ]
  },
  {
   "cell_type": "code",
   "execution_count": null,
   "metadata": {},
   "outputs": [],
   "source": [
    "print(maaş_hesapla(25,50,15))"
   ]
  },
  {
   "cell_type": "code",
   "execution_count": null,
   "metadata": {},
   "outputs": [],
   "source": []
  }
 ],
 "metadata": {
  "kernelspec": {
   "display_name": "Python 3",
   "language": "python",
   "name": "python3"
  },
  "language_info": {
   "codemirror_mode": {
    "name": "ipython",
    "version": 3
   },
   "file_extension": ".py",
   "mimetype": "text/x-python",
   "name": "python",
   "nbconvert_exporter": "python",
   "pygments_lexer": "ipython3",
   "version": "3.7.4"
  }
 },
 "nbformat": 4,
 "nbformat_minor": 4
}
