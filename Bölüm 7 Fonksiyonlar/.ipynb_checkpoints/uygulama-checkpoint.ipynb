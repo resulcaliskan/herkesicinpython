{
 "cells": [
  {
   "cell_type": "markdown",
   "metadata": {},
   "source": [
    "### Örnek Uygulama"
   ]
  },
  {
   "cell_type": "raw",
   "metadata": {},
   "source": [
    "\"\"\"Ücret hesaplama programı\n",
    "Fonksiyon üç parametre alır. \n",
    "ilk parametre işcinin toplam çalışma saatini\n",
    "ikinci parametre bir saatlik çalışma ücretini\n",
    "üçüncü parametre ise isteğe bağlı yüzde zam oranını gösterir.\n",
    "fonksiyon işcinin alacağı parayı hesaplar ve sonucu return yapar.\"\"\""
   ]
  },
  {
   "cell_type": "code",
   "execution_count": null,
   "metadata": {},
   "outputs": [],
   "source": [
    "def maaş_hesapla(toplam_çalışma_saati, bir_saatlik_ücret, zam_oranı):\n",
    "    pass \n",
    "\n",
    "#toplam_maaş = toplam_çalışma_saati * bir_saatlik_ücret\n",
    "#toplam_zamlı_maaş = toplam_maaş+(toplam_maaş*zam_oranı)/100\n",
    "#aşağıdaki değerleri girerek sonucu kontrol edelim:"
   ]
  },
  {
   "cell_type": "code",
   "execution_count": null,
   "metadata": {
    "scrolled": true
   },
   "outputs": [],
   "source": [
    "print(maaş_hesapla(25,50))"
   ]
  },
  {
   "cell_type": "code",
   "execution_count": null,
   "metadata": {
    "scrolled": true
   },
   "outputs": [],
   "source": [
    "print(maaş_hesapla(25,50,15))"
   ]
  },
  {
   "cell_type": "code",
   "execution_count": null,
   "metadata": {},
   "outputs": [],
   "source": [
    "def maaş_hesapla(toplam_çalışma_saati, bir_saatlik_ücret, zam_oranı=0):\n",
    "    \"\"\"fonksiyon iki zorunlu bir isteğe bağlı parametre alır tek değer döner...\"\"\"\n",
    "    maaş = toplam_çalışma_saati*bir_saatlik_ücret\n",
    "    \n",
    "    if zam_oranı:\n",
    "        zamlı_maaş = maaş+(maaş*zam_oranı)/100\n",
    "        return f\"Toplam çalışma saatiniz: {toplam_çalışma_saati} \\nBir saatlik çalışma üçreti :{bir_saatlik_ücret} \\nHesaplanmış Zamlı Maaş : {zamlı_maaş}\"\n",
    "    return f\"Toplam çalışma saatiniz: {toplam_çalışma_saati} \\nBir saatlik çalışma üçreti :{bir_saatlik_ücret} \\nHesaplanmış Maaş : {maaş}\"\n"
   ]
  },
  {
   "cell_type": "code",
   "execution_count": null,
   "metadata": {},
   "outputs": [],
   "source": [
    "print(maaş_hesapla(25,50))"
   ]
  },
  {
   "cell_type": "code",
   "execution_count": null,
   "metadata": {},
   "outputs": [],
   "source": [
    "print(maaş_hesapla(25,50,15))"
   ]
  },
  {
   "cell_type": "code",
   "execution_count": null,
   "metadata": {},
   "outputs": [],
   "source": []
  },
  {
   "cell_type": "code",
   "execution_count": null,
   "metadata": {},
   "outputs": [],
   "source": []
  },
  {
   "cell_type": "code",
   "execution_count": null,
   "metadata": {},
   "outputs": [],
   "source": []
  }
 ],
 "metadata": {
  "kernelspec": {
   "display_name": "Python 3",
   "language": "python",
   "name": "python3"
  },
  "language_info": {
   "codemirror_mode": {
    "name": "ipython",
    "version": 3
   },
   "file_extension": ".py",
   "mimetype": "text/x-python",
   "name": "python",
   "nbconvert_exporter": "python",
   "pygments_lexer": "ipython3",
   "version": "3.7.4"
  }
 },
 "nbformat": 4,
 "nbformat_minor": 4
}
