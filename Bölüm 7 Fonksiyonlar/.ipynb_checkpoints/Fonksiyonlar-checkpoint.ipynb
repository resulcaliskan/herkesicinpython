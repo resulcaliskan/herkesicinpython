{
 "cells": [
  {
   "cell_type": "markdown",
   "metadata": {},
   "source": [
    "### Fonksiyon oluşturma ve çağırma (invoke)"
   ]
  },
  {
   "cell_type": "code",
   "execution_count": 103,
   "metadata": {},
   "outputs": [],
   "source": [
    "def toplam(a,b):\n",
    "    \"\"\"a ve b parametrelerinin toplamını verir\"\"\"\n",
    "    sonuç = a + b\n",
    "    return sonuç"
   ]
  },
  {
   "cell_type": "code",
   "execution_count": 104,
   "metadata": {},
   "outputs": [
    {
     "data": {
      "text/plain": [
       "function"
      ]
     },
     "execution_count": 104,
     "metadata": {},
     "output_type": "execute_result"
    }
   ],
   "source": [
    "type(toplam)"
   ]
  },
  {
   "cell_type": "code",
   "execution_count": 105,
   "metadata": {
    "scrolled": true
   },
   "outputs": [
    {
     "data": {
      "text/plain": [
       "<function __main__.toplam(a, b)>"
      ]
     },
     "execution_count": 105,
     "metadata": {},
     "output_type": "execute_result"
    }
   ],
   "source": [
    "toplam"
   ]
  },
  {
   "cell_type": "code",
   "execution_count": 7,
   "metadata": {},
   "outputs": [
    {
     "data": {
      "text/plain": [
       "30"
      ]
     },
     "execution_count": 7,
     "metadata": {},
     "output_type": "execute_result"
    }
   ],
   "source": [
    "toplam(10,20)"
   ]
  },
  {
   "attachments": {},
   "cell_type": "markdown",
   "metadata": {},
   "source": [
    "### Parametreler ve Argümanlar ve return"
   ]
  },
  {
   "cell_type": "code",
   "execution_count": 21,
   "metadata": {},
   "outputs": [],
   "source": [
    "iki_sayı_toplamı = toplam(10,20)"
   ]
  },
  {
   "cell_type": "code",
   "execution_count": 22,
   "metadata": {},
   "outputs": [
    {
     "name": "stdout",
     "output_type": "stream",
     "text": [
      "30\n"
     ]
    }
   ],
   "source": [
    "print(iki_sayı_toplamı)"
   ]
  },
  {
   "cell_type": "code",
   "execution_count": 23,
   "metadata": {},
   "outputs": [],
   "source": [
    "def selam():\n",
    "    print(\"Merhaba!\")"
   ]
  },
  {
   "cell_type": "code",
   "execution_count": 24,
   "metadata": {},
   "outputs": [
    {
     "name": "stdout",
     "output_type": "stream",
     "text": [
      "Merhaba!\n"
     ]
    }
   ],
   "source": [
    "selamsöyle=selam()"
   ]
  },
  {
   "cell_type": "code",
   "execution_count": 25,
   "metadata": {},
   "outputs": [
    {
     "name": "stdout",
     "output_type": "stream",
     "text": [
      "None\n"
     ]
    }
   ],
   "source": [
    "print(selamsöyle)"
   ]
  },
  {
   "cell_type": "markdown",
   "metadata": {},
   "source": [
    "### varsayılan değere sahip parametreli fonksiyon"
   ]
  },
  {
   "cell_type": "code",
   "execution_count": 74,
   "metadata": {},
   "outputs": [],
   "source": [
    "def kayıt(isim, meslek, ülke):\n",
    "    print(f\"isim:{isim} meslek:{meslek} ülke {ülke} olarak kaydınız yapıldı.\" )"
   ]
  },
  {
   "cell_type": "code",
   "execution_count": 79,
   "metadata": {},
   "outputs": [
    {
     "name": "stdout",
     "output_type": "stream",
     "text": [
      "isim:hakan meslek:öğrenci ülke Romanya olarak kaydınız yapıldı.\n"
     ]
    }
   ],
   "source": [
    "kayıt(\"hakan\",\"öğrenci\",\"Romanya\")"
   ]
  },
  {
   "cell_type": "code",
   "execution_count": 77,
   "metadata": {},
   "outputs": [],
   "source": [
    "def kayıt(isim, meslek, ülke=\"Türkiye\"):\n",
    "    print(f\"isim:{isim} meslek:{meslek} ülke {ülke} olarak kaydınız yapıldı.\" )"
   ]
  },
  {
   "cell_type": "code",
   "execution_count": 78,
   "metadata": {},
   "outputs": [
    {
     "name": "stdout",
     "output_type": "stream",
     "text": [
      "isim:hakan meslek:öğrenci ülke Türkiye olarak kaydınız yapıldı.\n"
     ]
    }
   ],
   "source": [
    "kayıt(\"hakan\",\"öğrenci\")"
   ]
  },
  {
   "cell_type": "code",
   "execution_count": null,
   "metadata": {},
   "outputs": [],
   "source": [
    "# print fonksiyonunu inceleyelim.\n",
    "print()"
   ]
  },
  {
   "cell_type": "markdown",
   "metadata": {},
   "source": [
    "### args ve kwargs ifadeler "
   ]
  },
  {
   "cell_type": "code",
   "execution_count": 44,
   "metadata": {},
   "outputs": [],
   "source": [
    "def toplam(*args):\n",
    "    \"\"\"seri halinde verilen parametrelerinin toplamını verir\"\"\"\n",
    "    sonuç = 0\n",
    "    for i in args:\n",
    "        sonuç +=i\n",
    "    return sonuç"
   ]
  },
  {
   "cell_type": "code",
   "execution_count": 45,
   "metadata": {},
   "outputs": [
    {
     "data": {
      "text/plain": [
       "15"
      ]
     },
     "execution_count": 45,
     "metadata": {},
     "output_type": "execute_result"
    }
   ],
   "source": [
    "toplam(1,2,3,4,5)"
   ]
  },
  {
   "cell_type": "code",
   "execution_count": 67,
   "metadata": {},
   "outputs": [],
   "source": [
    "def kayıt_yap(**kwargs):\n",
    "    print(kwargs)"
   ]
  },
  {
   "cell_type": "code",
   "execution_count": 70,
   "metadata": {},
   "outputs": [
    {
     "name": "stdout",
     "output_type": "stream",
     "text": [
      "{'isim': 'hakan', 'yaş': 18, 'meslek': 'öğrenci'}\n"
     ]
    }
   ],
   "source": [
    "kayıt_yap(isim=\"hakan\", yaş=18, meslek=\"öğrenci\")"
   ]
  },
  {
   "cell_type": "code",
   "execution_count": 73,
   "metadata": {},
   "outputs": [
    {
     "name": "stdout",
     "output_type": "stream",
     "text": [
      "{'isim': 'kaan', 'yaş': 20}\n"
     ]
    }
   ],
   "source": [
    "sözlük = {\"isim\":\"kaan\",\"yaş\":20}\n",
    "kayıt_yap(**sözlük)"
   ]
  },
  {
   "cell_type": "markdown",
   "metadata": {},
   "source": [
    "### Scope Kavramı "
   ]
  },
  {
   "cell_type": "code",
   "execution_count": 94,
   "metadata": {},
   "outputs": [
    {
     "name": "stdout",
     "output_type": "stream",
     "text": [
      "fonksiyondan önce a:10\n",
      "fonksiyon içinde a:20\n",
      "fonksiyondan sonra a:10\n"
     ]
    }
   ],
   "source": [
    "a = 10\n",
    "print(f\"fonksiyondan önce a:{a}\")\n",
    "\n",
    "def fonksiyon():\n",
    "    a = 20\n",
    "    print(f\"fonksiyon içinde a:{a}\")\n",
    "    \n",
    "fonksiyon()\n",
    "print(f\"fonksiyondan sonra a:{a}\")"
   ]
  },
  {
   "cell_type": "code",
   "execution_count": null,
   "metadata": {},
   "outputs": [],
   "source": []
  },
  {
   "cell_type": "code",
   "execution_count": 102,
   "metadata": {},
   "outputs": [
    {
     "name": "stdout",
     "output_type": "stream",
     "text": [
      "fonksiyondan önce a:10\n",
      "fonksiyon içinde a:20\n",
      "fonksiyondan sonra a:20\n"
     ]
    }
   ],
   "source": [
    "a = 10\n",
    "print(f\"fonksiyondan önce a:{a}\")\n",
    "\n",
    "def fonksiyon():\n",
    "    global a\n",
    "    a = 20\n",
    "    print(f\"fonksiyon içinde a:{a}\")\n",
    "    \n",
    "fonksiyon()\n",
    "print(f\"fonksiyondan sonra a:{a}\")"
   ]
  },
  {
   "cell_type": "markdown",
   "metadata": {},
   "source": [
    "### Örnek Uygulama"
   ]
  },
  {
   "cell_type": "raw",
   "metadata": {},
   "source": [
    "\"\"\"Ücret hesaplama programı\n",
    "Fonksiyon üç parametre alır. \n",
    "ilk parametre işcinin toplam çalışma saatini\n",
    "ikinci parametre bir saatlik çalışma ücretini\n",
    "üçüncü parametre ise isteğe bağlı yüzde zam oranını gösterir.\n",
    "fonksiyon işcinin alacağı parayı hesaplar ve sonucu return yapar.\"\"\""
   ]
  },
  {
   "cell_type": "code",
   "execution_count": null,
   "metadata": {},
   "outputs": [],
   "source": [
    "def maaş_hesapla(toplam_çalışma_saati, bir_saatlik_ücret, zam_oranı):\n",
    "    pass \n",
    "\n",
    "#toplam_maaş = toplam_çalışma_saati * bir_saatlik_ücret\n",
    "#toplam_zamlı_maaş = toplam_maaş+(toplam_maaş*zam_oranı)/100\n",
    "#aşağıdaki değerleri girerek sonucu kontrol edelim:"
   ]
  },
  {
   "cell_type": "code",
   "execution_count": 86,
   "metadata": {
    "scrolled": true
   },
   "outputs": [
    {
     "name": "stdout",
     "output_type": "stream",
     "text": [
      "Toplam çalışma saatiniz: 25 \n",
      "Bir saatlik çalışma üçreti :50 \n",
      "Hesaplanmış Maaş : 1250\n"
     ]
    }
   ],
   "source": [
    "print(maaş_hesapla(25,50))"
   ]
  },
  {
   "cell_type": "code",
   "execution_count": 87,
   "metadata": {
    "scrolled": true
   },
   "outputs": [
    {
     "name": "stdout",
     "output_type": "stream",
     "text": [
      "Toplam çalışma saatiniz: 25 \n",
      "Bir saatlik çalışma üçreti :50 \n",
      "Hesaplanmış Zamlı Maaş : 1437.5\n"
     ]
    }
   ],
   "source": [
    "print(maaş_hesapla(25,50,15))"
   ]
  },
  {
   "cell_type": "code",
   "execution_count": 84,
   "metadata": {},
   "outputs": [],
   "source": [
    "def maaş_hesapla(toplam_çalışma_saati, bir_saatlik_ücret, zam_oranı=0):\n",
    "    \"\"\"fonksiyon iki zorunlu bir isteğe bağlı parametre alır tek değer döner...\"\"\"\n",
    "    maaş = toplam_çalışma_saati*bir_saatlik_ücret\n",
    "    \n",
    "    if zam_oranı:\n",
    "        zamlı_maaş = maaş+(maaş*zam_oranı)/100\n",
    "        return f\"Toplam çalışma saatiniz: {toplam_çalışma_saati} \\nBir saatlik çalışma üçreti :{bir_saatlik_ücret} \\nHesaplanmış Zamlı Maaş : {zamlı_maaş}\"\n",
    "    return f\"Toplam çalışma saatiniz: {toplam_çalışma_saati} \\nBir saatlik çalışma üçreti :{bir_saatlik_ücret} \\nHesaplanmış Maaş : {maaş}\"\n"
   ]
  },
  {
   "cell_type": "code",
   "execution_count": 81,
   "metadata": {},
   "outputs": [
    {
     "name": "stdout",
     "output_type": "stream",
     "text": [
      "Toplam çalışma saatiniz: 25 \n",
      "Bir saatlik çalışma üçreti :50 \n",
      "Hesaplanmış Maaş : 1250\n"
     ]
    }
   ],
   "source": [
    "print(maaş_hesapla(25,50))"
   ]
  },
  {
   "cell_type": "code",
   "execution_count": 82,
   "metadata": {},
   "outputs": [
    {
     "name": "stdout",
     "output_type": "stream",
     "text": [
      "Toplam çalışma saatiniz: 25 \n",
      "Bir saatlik çalışma üçreti :50 \n",
      "Hesaplanmış Zamlı Maaş : 1437.5\n"
     ]
    }
   ],
   "source": [
    "print(maaş_hesapla(25,50,15))"
   ]
  },
  {
   "cell_type": "code",
   "execution_count": null,
   "metadata": {},
   "outputs": [],
   "source": []
  }
 ],
 "metadata": {
  "kernelspec": {
   "display_name": "Python 3",
   "language": "python",
   "name": "python3"
  },
  "language_info": {
   "codemirror_mode": {
    "name": "ipython",
    "version": 3
   },
   "file_extension": ".py",
   "mimetype": "text/x-python",
   "name": "python",
   "nbconvert_exporter": "python",
   "pygments_lexer": "ipython3",
   "version": "3.7.4"
  }
 },
 "nbformat": 4,
 "nbformat_minor": 4
}
