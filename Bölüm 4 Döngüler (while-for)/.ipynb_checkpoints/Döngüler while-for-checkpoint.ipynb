{
 "cells": [
  {
   "cell_type": "markdown",
   "metadata": {},
   "source": [
    "# Dönüler\n",
    "### while loop:"
   ]
  },
  {
   "cell_type": "code",
   "execution_count": null,
   "metadata": {},
   "outputs": [],
   "source": [
    "# 1 den 10 kadar olan sayıların karelerinin toplamını yazalım. "
   ]
  },
  {
   "cell_type": "code",
   "execution_count": 1,
   "metadata": {},
   "outputs": [
    {
     "name": "stdout",
     "output_type": "stream",
     "text": [
      "1\n",
      "5\n",
      "14\n",
      "30\n",
      "55\n",
      "91\n",
      "140\n",
      "204\n",
      "285\n"
     ]
    }
   ],
   "source": [
    "i=1\n",
    "t=0\n",
    "while i<10:\n",
    "    t=t+i**2\n",
    "    print(t)\n",
    "    i=i+1"
   ]
  },
  {
   "cell_type": "code",
   "execution_count": 2,
   "metadata": {},
   "outputs": [
    {
     "name": "stdout",
     "output_type": "stream",
     "text": [
      "1\n",
      "5\n",
      "14\n",
      "30\n",
      "55\n",
      "91\n",
      "140\n",
      "204\n",
      "285\n"
     ]
    }
   ],
   "source": [
    "i=1\n",
    "t=0\n",
    "while i<10:\n",
    "    t += i**2\n",
    "    print(t)\n",
    "    i += 1"
   ]
  },
  {
   "cell_type": "code",
   "execution_count": null,
   "metadata": {},
   "outputs": [],
   "source": [
    "# doğru şifre girilene kadar döngüden çıkış yapmayan, \n",
    "# kullanıcıdan şifre isteyen  bir program yazalım"
   ]
  },
  {
   "cell_type": "code",
   "execution_count": 4,
   "metadata": {},
   "outputs": [
    {
     "name": "stdout",
     "output_type": "stream",
     "text": [
      "Lütfen bir şifre giriniz :fgh\n",
      "Tekrar giriniz!!\n",
      "Lütfen bir şifre giriniz :rtyu\n",
      "Tekrar giriniz!!\n",
      "Lütfen bir şifre giriniz :hjk\n",
      "Giriş hakkınız bitmiştir. Oturum kapatıldı.\n"
     ]
    }
   ],
   "source": [
    "şifre=\"\"\n",
    "deneme = 0\n",
    "while şifre != \"python\":\n",
    "    deneme +=1\n",
    "    şifre = input(\"Lütfen bir şifre giriniz :\")\n",
    "    if şifre == \"python\":\n",
    "        print(\"Çıkış onayladı.\")\n",
    "    elif deneme ==3:\n",
    "        print(\"Giriş hakkınız bitmiştir. Oturum kapatıldı.\")\n",
    "        break\n",
    "    else:\n",
    "        print(\"Tekrar giriniz!!\")"
   ]
  },
  {
   "cell_type": "markdown",
   "metadata": {},
   "source": [
    "### for loop:"
   ]
  },
  {
   "cell_type": "code",
   "execution_count": null,
   "metadata": {},
   "outputs": [],
   "source": [
    "# [1,2,3,4,5,6,7,8,9,10] listesini döngü yardımı ile yazdıralım."
   ]
  },
  {
   "cell_type": "code",
   "execution_count": 6,
   "metadata": {},
   "outputs": [
    {
     "name": "stdout",
     "output_type": "stream",
     "text": [
      "1 2 3 4 5 6 7 8 9 10 "
     ]
    }
   ],
   "source": [
    "l=[1,2,3,4,5,6,7,8,9,10]\n",
    "for i in l:\n",
    "    print(i,end=\" \")"
   ]
  },
  {
   "cell_type": "code",
   "execution_count": null,
   "metadata": {},
   "outputs": [],
   "source": []
  },
  {
   "cell_type": "code",
   "execution_count": null,
   "metadata": {},
   "outputs": [],
   "source": [
    "# \"istanbul\" kelimesindeki harfleri döngü yardımıyla yazdıralım."
   ]
  },
  {
   "cell_type": "code",
   "execution_count": 7,
   "metadata": {},
   "outputs": [
    {
     "name": "stdout",
     "output_type": "stream",
     "text": [
      "i\n",
      "s\n",
      "t\n",
      "a\n",
      "n\n",
      "b\n",
      "u\n",
      "l\n"
     ]
    }
   ],
   "source": [
    "for i in \"istanbul\":\n",
    "    print(i)"
   ]
  },
  {
   "cell_type": "code",
   "execution_count": null,
   "metadata": {},
   "outputs": [],
   "source": [
    "# range() ile 0..10 kadar yazdıralım."
   ]
  },
  {
   "cell_type": "code",
   "execution_count": 9,
   "metadata": {},
   "outputs": [
    {
     "name": "stdout",
     "output_type": "stream",
     "text": [
      "0\n",
      "1\n",
      "2\n",
      "3\n",
      "4\n",
      "5\n",
      "6\n",
      "7\n",
      "8\n",
      "9\n",
      "10\n"
     ]
    }
   ],
   "source": [
    "for i in range(11):\n",
    "    print(i)"
   ]
  },
  {
   "cell_type": "code",
   "execution_count": 13,
   "metadata": {},
   "outputs": [
    {
     "name": "stdout",
     "output_type": "stream",
     "text": [
      "0\n",
      "2\n",
      "4\n",
      "6\n",
      "8\n"
     ]
    }
   ],
   "source": [
    "# range() ile 0..10 kadar olan çift sayıları yazdıralım.\n",
    "for i in range(0,10,2):\n",
    "    print(i)"
   ]
  },
  {
   "cell_type": "markdown",
   "metadata": {},
   "source": [
    "### Döngüden Çıkma (break)"
   ]
  },
  {
   "cell_type": "code",
   "execution_count": 14,
   "metadata": {},
   "outputs": [],
   "source": [
    "l=[\"Hakan\",\"Kaan\",\"Ayşe\",\"Zeynep\",\"Soner\"]"
   ]
  },
  {
   "cell_type": "code",
   "execution_count": 17,
   "metadata": {},
   "outputs": [
    {
     "name": "stdout",
     "output_type": "stream",
     "text": [
      "Merhaba  Hakan\n",
      "Merhaba  Kaan\n"
     ]
    }
   ],
   "source": [
    "for isim in l:\n",
    "    if isim == \"Ayşe\":\n",
    "        break\n",
    "    print(\"Merhaba \",isim)"
   ]
  },
  {
   "cell_type": "markdown",
   "metadata": {},
   "source": [
    "### Döngü  Atlama (continue)"
   ]
  },
  {
   "cell_type": "code",
   "execution_count": null,
   "metadata": {},
   "outputs": [],
   "source": [
    "# [\"Hakan\",\"Kaan\",\"Ayşe\",\"Zeynep\",\"Soner\"] Ayşe hariç merhaba yazdıralım. \n"
   ]
  },
  {
   "cell_type": "code",
   "execution_count": 18,
   "metadata": {},
   "outputs": [
    {
     "name": "stdout",
     "output_type": "stream",
     "text": [
      "Merhaba  Hakan\n",
      "Merhaba  Kaan\n",
      "Merhaba  Zeynep\n",
      "Merhaba  Soner\n"
     ]
    }
   ],
   "source": [
    "for isim in l:\n",
    "    if isim == \"Ayşe\":\n",
    "        continue\n",
    "    print(\"Merhaba \",isim)"
   ]
  },
  {
   "cell_type": "code",
   "execution_count": null,
   "metadata": {},
   "outputs": [],
   "source": []
  },
  {
   "cell_type": "markdown",
   "metadata": {},
   "source": [
    "### Örnek: en büyük sayıyı bul "
   ]
  },
  {
   "cell_type": "code",
   "execution_count": null,
   "metadata": {},
   "outputs": [],
   "source": [
    "# [311,551,221,451,177,433,561] en büyük sayıyı bulalım."
   ]
  },
  {
   "cell_type": "code",
   "execution_count": 21,
   "metadata": {},
   "outputs": [
    {
     "name": "stdout",
     "output_type": "stream",
     "text": [
      "561\n"
     ]
    }
   ],
   "source": [
    "liste=[311,551,221,451,177,433,561]\n",
    "enbs=0\n",
    "for i in liste:\n",
    "    if enbs<i:\n",
    "        enbs = i\n",
    "print(enbs)"
   ]
  },
  {
   "cell_type": "code",
   "execution_count": null,
   "metadata": {},
   "outputs": [],
   "source": []
  }
 ],
 "metadata": {
  "kernelspec": {
   "display_name": "Python 3",
   "language": "python",
   "name": "python3"
  },
  "language_info": {
   "codemirror_mode": {
    "name": "ipython",
    "version": 3
   },
   "file_extension": ".py",
   "mimetype": "text/x-python",
   "name": "python",
   "nbconvert_exporter": "python",
   "pygments_lexer": "ipython3",
   "version": "3.7.4"
  }
 },
 "nbformat": 4,
 "nbformat_minor": 4
}
