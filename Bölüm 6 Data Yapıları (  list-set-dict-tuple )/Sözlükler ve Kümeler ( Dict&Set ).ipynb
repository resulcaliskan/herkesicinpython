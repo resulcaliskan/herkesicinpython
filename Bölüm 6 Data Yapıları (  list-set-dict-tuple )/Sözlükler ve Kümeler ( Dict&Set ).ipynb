{
 "cells": [
  {
   "cell_type": "markdown",
   "metadata": {},
   "source": [
    "# Sözlükler\n",
    "### Sözlük oluşturma"
   ]
  },
  {
   "cell_type": "code",
   "execution_count": null,
   "metadata": {},
   "outputs": [],
   "source": [
    "# boş bir sözlük \n",
    "sözlük = dict()"
   ]
  },
  {
   "cell_type": "code",
   "execution_count": null,
   "metadata": {},
   "outputs": [],
   "source": [
    "sözlük = {}"
   ]
  },
  {
   "cell_type": "code",
   "execution_count": null,
   "metadata": {},
   "outputs": [],
   "source": [
    "sözlük = {'a': 1}"
   ]
  },
  {
   "cell_type": "code",
   "execution_count": null,
   "metadata": {},
   "outputs": [],
   "source": [
    "sözlük = {'b': (1,2,3)}"
   ]
  },
  {
   "cell_type": "code",
   "execution_count": null,
   "metadata": {},
   "outputs": [],
   "source": [
    "sözlük = {'c': 'text'}"
   ]
  },
  {
   "cell_type": "code",
   "execution_count": 47,
   "metadata": {},
   "outputs": [],
   "source": [
    "sözlük = {'l': [1,2,3]}"
   ]
  },
  {
   "cell_type": "code",
   "execution_count": 50,
   "metadata": {},
   "outputs": [
    {
     "data": {
      "text/plain": [
       "{'t': (1, 2, 3), 'd': {1: 'bir', 2: 'iki'}}"
      ]
     },
     "execution_count": 50,
     "metadata": {},
     "output_type": "execute_result"
    }
   ],
   "source": [
    "sözlük = {'t': (1,2,3), \"d\":{1:\"bir\",2:\"iki\"}}\n",
    "sözlük"
   ]
  },
  {
   "cell_type": "code",
   "execution_count": 16,
   "metadata": {},
   "outputs": [
    {
     "name": "stdout",
     "output_type": "stream",
     "text": [
      "{1: 'elma', 2: 'armut'}\n"
     ]
    }
   ],
   "source": [
    "# elemanları tuples olan listeden sözlük oluşturma\n",
    "\n",
    "sözlük = dict( [ (1, 'elma'), (2, 'armut') ] )\n",
    "print(sözlük)"
   ]
  },
  {
   "cell_type": "code",
   "execution_count": 10,
   "metadata": {},
   "outputs": [
    {
     "data": {
      "text/plain": [
       "1"
      ]
     },
     "execution_count": 10,
     "metadata": {},
     "output_type": "execute_result"
    }
   ],
   "source": [
    "hash(1)"
   ]
  },
  {
   "cell_type": "markdown",
   "metadata": {},
   "source": [
    "### Sözlüğe eleman ekleme"
   ]
  },
  {
   "cell_type": "code",
   "execution_count": 19,
   "metadata": {},
   "outputs": [
    {
     "name": "stdout",
     "output_type": "stream",
     "text": [
      "{1: 'elma', 2: 'armut', 3: 'karpuz'}\n"
     ]
    }
   ],
   "source": [
    "sözlük = { 1: 'elma', 2: 'armut' }\n",
    "sözlük[3] = 'karpuz'\n",
    "print(sözlük)"
   ]
  },
  {
   "cell_type": "code",
   "execution_count": null,
   "metadata": {},
   "outputs": [],
   "source": []
  },
  {
   "cell_type": "markdown",
   "metadata": {},
   "source": [
    "### Sözlük elemanlarına erişim"
   ]
  },
  {
   "cell_type": "code",
   "execution_count": 26,
   "metadata": {},
   "outputs": [
    {
     "name": "stdout",
     "output_type": "stream",
     "text": [
      "armut\n",
      "10\n"
     ]
    }
   ],
   "source": [
    "sözlük = { 1: 'elma', 2: 'armut', 'miktar': 10 }\n",
    "print(sözlük[2])\n",
    "print(sözlük[\"miktar\"])"
   ]
  },
  {
   "cell_type": "code",
   "execution_count": 27,
   "metadata": {},
   "outputs": [],
   "source": [
    "#Sözlük Öğeleri Üzerinde Değişiklik Yapmak\n",
    "sözlük[2] = 'kiraz'"
   ]
  },
  {
   "cell_type": "code",
   "execution_count": 29,
   "metadata": {},
   "outputs": [
    {
     "data": {
      "text/plain": [
       "'kiraz'"
      ]
     },
     "execution_count": 29,
     "metadata": {},
     "output_type": "execute_result"
    }
   ],
   "source": [
    "sözlük[2]"
   ]
  },
  {
   "cell_type": "code",
   "execution_count": 30,
   "metadata": {},
   "outputs": [
    {
     "data": {
      "text/plain": [
       "dict_keys([1, 2, 'miktar'])"
      ]
     },
     "execution_count": 30,
     "metadata": {},
     "output_type": "execute_result"
    }
   ],
   "source": [
    "sözlük.keys()"
   ]
  },
  {
   "cell_type": "code",
   "execution_count": 31,
   "metadata": {},
   "outputs": [
    {
     "data": {
      "text/plain": [
       "dict_items([(1, 'elma'), (2, 'kiraz'), ('miktar', 10)])"
      ]
     },
     "execution_count": 31,
     "metadata": {},
     "output_type": "execute_result"
    }
   ],
   "source": [
    "sözlük.items()"
   ]
  },
  {
   "cell_type": "code",
   "execution_count": 32,
   "metadata": {},
   "outputs": [
    {
     "data": {
      "text/plain": [
       "dict_values(['elma', 'kiraz', 10])"
      ]
     },
     "execution_count": 32,
     "metadata": {},
     "output_type": "execute_result"
    }
   ],
   "source": [
    "sözlük.values()"
   ]
  },
  {
   "cell_type": "markdown",
   "metadata": {},
   "source": [
    "### dict.get(key, defaultValue)"
   ]
  },
  {
   "cell_type": "code",
   "execution_count": 73,
   "metadata": {},
   "outputs": [],
   "source": [
    "sözlük = { 1: 'elma', 2: 'armut', 'miktar': 10 }"
   ]
  },
  {
   "cell_type": "code",
   "execution_count": 46,
   "metadata": {},
   "outputs": [
    {
     "data": {
      "text/plain": [
       "'yoktur'"
      ]
     },
     "execution_count": 46,
     "metadata": {},
     "output_type": "execute_result"
    }
   ],
   "source": [
    "sözlük.get(5, \"yoktur\")"
   ]
  },
  {
   "cell_type": "code",
   "execution_count": 43,
   "metadata": {},
   "outputs": [
    {
     "data": {
      "text/plain": [
       "10"
      ]
     },
     "execution_count": 43,
     "metadata": {},
     "output_type": "execute_result"
    }
   ],
   "source": [
    "sözlük.get(\"miktar\", \"yok\")"
   ]
  },
  {
   "cell_type": "code",
   "execution_count": 44,
   "metadata": {},
   "outputs": [
    {
     "data": {
      "text/plain": [
       "'armut'"
      ]
     },
     "execution_count": 44,
     "metadata": {},
     "output_type": "execute_result"
    }
   ],
   "source": [
    "sözlük.get(2, \"yok\")"
   ]
  },
  {
   "cell_type": "markdown",
   "metadata": {},
   "source": [
    "### Sözlüklerin Metodları"
   ]
  },
  {
   "cell_type": "markdown",
   "metadata": {},
   "source": [
    "### keys()"
   ]
  },
  {
   "cell_type": "code",
   "execution_count": 53,
   "metadata": {},
   "outputs": [
    {
     "data": {
      "text/plain": [
       "dict_keys([1, 2, 'miktar'])"
      ]
     },
     "execution_count": 53,
     "metadata": {},
     "output_type": "execute_result"
    }
   ],
   "source": [
    "sözlük.keys()"
   ]
  },
  {
   "cell_type": "markdown",
   "metadata": {},
   "source": [
    "### values()"
   ]
  },
  {
   "cell_type": "code",
   "execution_count": 1,
   "metadata": {},
   "outputs": [
    {
     "ename": "NameError",
     "evalue": "name 'sözlük' is not defined",
     "output_type": "error",
     "traceback": [
      "\u001b[1;31m---------------------------------------------------------------------------\u001b[0m",
      "\u001b[1;31mNameError\u001b[0m                                 Traceback (most recent call last)",
      "\u001b[1;32m<ipython-input-1-af1471e749bc>\u001b[0m in \u001b[0;36m<module>\u001b[1;34m\u001b[0m\n\u001b[1;32m----> 1\u001b[1;33m \u001b[0msözlük\u001b[0m\u001b[1;33m.\u001b[0m\u001b[0mvalues\u001b[0m\u001b[1;33m(\u001b[0m\u001b[1;33m)\u001b[0m\u001b[1;33m\u001b[0m\u001b[1;33m\u001b[0m\u001b[0m\n\u001b[0m",
      "\u001b[1;31mNameError\u001b[0m: name 'sözlük' is not defined"
     ]
    }
   ],
   "source": [
    "sözlük.values()"
   ]
  },
  {
   "cell_type": "markdown",
   "metadata": {},
   "source": [
    "### items()"
   ]
  },
  {
   "cell_type": "code",
   "execution_count": 55,
   "metadata": {},
   "outputs": [
    {
     "data": {
      "text/plain": [
       "dict_items([(1, 'elma'), (2, 'armut'), ('miktar', 10)])"
      ]
     },
     "execution_count": 55,
     "metadata": {},
     "output_type": "execute_result"
    }
   ],
   "source": [
    "sözlük.items()"
   ]
  },
  {
   "cell_type": "markdown",
   "metadata": {},
   "source": [
    "### del"
   ]
  },
  {
   "cell_type": "code",
   "execution_count": null,
   "metadata": {},
   "outputs": [],
   "source": [
    "del sözlük[key]"
   ]
  },
  {
   "cell_type": "markdown",
   "metadata": {},
   "source": [
    "### update()"
   ]
  },
  {
   "cell_type": "code",
   "execution_count": 58,
   "metadata": {},
   "outputs": [
    {
     "data": {
      "text/plain": [
       "{1: 'elma', 2: 'armut', 'miktar': 10, 3: 'kiraz', 'satış durumu': True}"
      ]
     },
     "execution_count": 58,
     "metadata": {},
     "output_type": "execute_result"
    }
   ],
   "source": [
    "d = {3:\"kiraz\", \"satış durumu\":True}\n",
    "sözlük.update(d)\n",
    "print(sözlük)"
   ]
  },
  {
   "cell_type": "markdown",
   "metadata": {},
   "source": [
    "### pop()"
   ]
  },
  {
   "cell_type": "code",
   "execution_count": 61,
   "metadata": {},
   "outputs": [
    {
     "data": {
      "text/plain": [
       "{1: 'elma', 2: 'armut', 'miktar': 10, 'satış durumu': True}"
      ]
     },
     "execution_count": 61,
     "metadata": {},
     "output_type": "execute_result"
    }
   ],
   "source": [
    "sözlük.pop(3)\n",
    "sözlük"
   ]
  },
  {
   "cell_type": "markdown",
   "metadata": {},
   "source": [
    "### popitem()"
   ]
  },
  {
   "cell_type": "code",
   "execution_count": 66,
   "metadata": {},
   "outputs": [
    {
     "data": {
      "text/plain": [
       "{1: 'elma'}"
      ]
     },
     "execution_count": 66,
     "metadata": {},
     "output_type": "execute_result"
    }
   ],
   "source": [
    "sözlük.popitem()\n",
    "sözlük"
   ]
  },
  {
   "cell_type": "markdown",
   "metadata": {},
   "source": [
    "### get()"
   ]
  },
  {
   "cell_type": "code",
   "execution_count": 104,
   "metadata": {},
   "outputs": [
    {
     "name": "stdout",
     "output_type": "stream",
     "text": [
      "kalmadı\n",
      "None\n",
      "elma\n"
     ]
    }
   ],
   "source": [
    "# key varsa değeri döner yoksa bizim belirlediğimiz değeri döner. Belirtmez isek None döner.\n",
    "print(sözlük.get(5,\"kalmadı\"))\n",
    "print(sözlük.get(5))\n",
    "print(sözlük.get(1))"
   ]
  },
  {
   "cell_type": "code",
   "execution_count": 101,
   "metadata": {},
   "outputs": [
    {
     "name": "stdout",
     "output_type": "stream",
     "text": [
      "kivi\n"
     ]
    },
    {
     "data": {
      "text/plain": [
       "{1: 'elma', 2: 'armut', 'miktar': 10, 3: 'kivi'}"
      ]
     },
     "execution_count": 101,
     "metadata": {},
     "output_type": "execute_result"
    }
   ],
   "source": [
    "setdkey = sözlük.setdefault(3, \"kivi\") # sözlükte key yoksa oluşturur default değeri yazılmamıi ise None dır. \n",
    "print(setdkey)\n",
    "sözlük"
   ]
  },
  {
   "cell_type": "code",
   "execution_count": 70,
   "metadata": {},
   "outputs": [
    {
     "data": {
      "text/plain": [
       "{}"
      ]
     },
     "execution_count": 70,
     "metadata": {},
     "output_type": "execute_result"
    }
   ],
   "source": [
    "sözlük.clear()\n",
    "sözlük"
   ]
  },
  {
   "cell_type": "markdown",
   "metadata": {},
   "source": [
    "# Kümeler"
   ]
  },
  {
   "cell_type": "markdown",
   "metadata": {},
   "source": [
    "### Küme oluşturma"
   ]
  },
  {
   "cell_type": "code",
   "execution_count": 85,
   "metadata": {},
   "outputs": [],
   "source": [
    "boş_küme = set()"
   ]
  },
  {
   "cell_type": "code",
   "execution_count": 86,
   "metadata": {},
   "outputs": [
    {
     "data": {
      "text/plain": [
       "set()"
      ]
     },
     "execution_count": 86,
     "metadata": {},
     "output_type": "execute_result"
    }
   ],
   "source": [
    "boş_küme"
   ]
  },
  {
   "cell_type": "code",
   "execution_count": 78,
   "metadata": {},
   "outputs": [
    {
     "name": "stdout",
     "output_type": "stream",
     "text": [
      "{1, 2, 3, 4}\n"
     ]
    }
   ],
   "source": [
    "liste = [1,2,3,1,2,3,4]\n",
    "küme = set(liste)\n",
    "print(küme)"
   ]
  },
  {
   "cell_type": "markdown",
   "metadata": {},
   "source": [
    "### kümelere ait işlemler"
   ]
  },
  {
   "cell_type": "markdown",
   "metadata": {},
   "source": [
    "### update()"
   ]
  },
  {
   "cell_type": "code",
   "execution_count": null,
   "metadata": {},
   "outputs": [],
   "source": [
    "küme = {1, 2, 3, 4}"
   ]
  },
  {
   "cell_type": "code",
   "execution_count": 105,
   "metadata": {},
   "outputs": [
    {
     "name": "stdout",
     "output_type": "stream",
     "text": [
      "{1, 2, 3, 4, 5, 6}\n"
     ]
    }
   ],
   "source": [
    "küme.update([5,6]) \n",
    "print(küme)"
   ]
  },
  {
   "cell_type": "markdown",
   "metadata": {},
   "source": [
    "### copy()"
   ]
  },
  {
   "cell_type": "code",
   "execution_count": 106,
   "metadata": {},
   "outputs": [
    {
     "data": {
      "text/plain": [
       "{1, 2, 3, 4, 5, 6}"
      ]
     },
     "execution_count": 106,
     "metadata": {},
     "output_type": "execute_result"
    }
   ],
   "source": [
    "küme2 = küme.copy()\n",
    "küme2"
   ]
  },
  {
   "cell_type": "markdown",
   "metadata": {},
   "source": [
    "### add()"
   ]
  },
  {
   "cell_type": "code",
   "execution_count": 107,
   "metadata": {},
   "outputs": [
    {
     "data": {
      "text/plain": [
       "{1, 2, 3, 4, 5, 6, 7}"
      ]
     },
     "execution_count": 107,
     "metadata": {},
     "output_type": "execute_result"
    }
   ],
   "source": [
    "küme.add(7)\n",
    "küme"
   ]
  },
  {
   "cell_type": "markdown",
   "metadata": {},
   "source": [
    "### remove()"
   ]
  },
  {
   "cell_type": "code",
   "execution_count": null,
   "metadata": {},
   "outputs": [],
   "source": [
    "# kümede olmayan bir öğeyi silmeye çalışırsak discard() metodunun aksine hata verir.\n",
    "küme.remove(7)"
   ]
  },
  {
   "cell_type": "markdown",
   "metadata": {},
   "source": [
    "### discard()"
   ]
  },
  {
   "cell_type": "code",
   "execution_count": 96,
   "metadata": {},
   "outputs": [
    {
     "data": {
      "text/plain": [
       "{1, 2, 3, 5, 6}"
      ]
     },
     "execution_count": 96,
     "metadata": {},
     "output_type": "execute_result"
    }
   ],
   "source": [
    "# bu metodun en önemli özelliği olmayan bir öğeyi silmeye çalıştığımızda hata vermemesi. shell sonraki satırdan işleme devam eder\n",
    "küme.discard(4)\n",
    "küme"
   ]
  },
  {
   "cell_type": "markdown",
   "metadata": {},
   "source": [
    "### pop()"
   ]
  },
  {
   "cell_type": "code",
   "execution_count": 98,
   "metadata": {},
   "outputs": [
    {
     "name": "stdout",
     "output_type": "stream",
     "text": [
      "2\n"
     ]
    },
    {
     "data": {
      "text/plain": [
       "{3, 5, 6}"
      ]
     },
     "execution_count": 98,
     "metadata": {},
     "output_type": "execute_result"
    }
   ],
   "source": [
    "a = küme.pop()\n",
    "print(a)\n",
    "küme"
   ]
  },
  {
   "cell_type": "markdown",
   "metadata": {},
   "source": [
    "### clear()"
   ]
  },
  {
   "cell_type": "code",
   "execution_count": null,
   "metadata": {},
   "outputs": [],
   "source": [
    "küme.clear()"
   ]
  },
  {
   "cell_type": "markdown",
   "metadata": {},
   "source": [
    "### Kümeler İşlem Operatörleri"
   ]
  },
  {
   "cell_type": "markdown",
   "metadata": {},
   "source": [
    "### iki kümenin kesişimi  intersection() \"&\" "
   ]
  },
  {
   "cell_type": "code",
   "execution_count": 2,
   "metadata": {},
   "outputs": [],
   "source": [
    "küme1 = {1, 2, 3, 4, 5}\n",
    "küme2 = {1, 2, 5, 6, 7}"
   ]
  },
  {
   "cell_type": "code",
   "execution_count": 3,
   "metadata": {},
   "outputs": [
    {
     "name": "stdout",
     "output_type": "stream",
     "text": [
      "{1, 2, 5}\n"
     ]
    }
   ],
   "source": [
    "print(küme1&küme2)               #kesişim kümesini verir"
   ]
  },
  {
   "cell_type": "code",
   "execution_count": 4,
   "metadata": {},
   "outputs": [
    {
     "name": "stdout",
     "output_type": "stream",
     "text": [
      "{1, 2, 5}\n"
     ]
    }
   ],
   "source": [
    "print(küme1.intersection(küme2)) #kesişim kümesini verir"
   ]
  },
  {
   "cell_type": "markdown",
   "metadata": {},
   "source": [
    "### iki kümenin farkı differece() \"-\""
   ]
  },
  {
   "cell_type": "code",
   "execution_count": 114,
   "metadata": {},
   "outputs": [
    {
     "data": {
      "text/plain": [
       "{3, 4}"
      ]
     },
     "execution_count": 114,
     "metadata": {},
     "output_type": "execute_result"
    }
   ],
   "source": [
    "küme1.difference(küme2)"
   ]
  },
  {
   "cell_type": "code",
   "execution_count": 115,
   "metadata": {},
   "outputs": [
    {
     "data": {
      "text/plain": [
       "{3, 4}"
      ]
     },
     "execution_count": 115,
     "metadata": {},
     "output_type": "execute_result"
    }
   ],
   "source": [
    "küme1-küme2"
   ]
  },
  {
   "cell_type": "markdown",
   "metadata": {},
   "source": [
    "Ayrık kümeler mi? isdisjoint()"
   ]
  },
  {
   "cell_type": "code",
   "execution_count": 116,
   "metadata": {},
   "outputs": [
    {
     "data": {
      "text/plain": [
       "False"
      ]
     },
     "execution_count": 116,
     "metadata": {},
     "output_type": "execute_result"
    }
   ],
   "source": [
    "# tüm elemanları farklı ise true değilse false döner\n",
    "küme1.isdisjoint(küme2)"
   ]
  },
  {
   "cell_type": "markdown",
   "metadata": {},
   "source": [
    "a kümesi b kümesinin alt kümesi midir?"
   ]
  },
  {
   "cell_type": "code",
   "execution_count": 117,
   "metadata": {},
   "outputs": [
    {
     "data": {
      "text/plain": [
       "False"
      ]
     },
     "execution_count": 117,
     "metadata": {},
     "output_type": "execute_result"
    }
   ],
   "source": [
    "#küme diğer kümenin elemanlarının hepsini kapsarsa true kapsamaz ise false\n",
    "#issubset ile benzerdir.\n",
    "küme1.issuperset(küme2)"
   ]
  },
  {
   "cell_type": "code",
   "execution_count": 118,
   "metadata": {},
   "outputs": [
    {
     "data": {
      "text/plain": [
       "True"
      ]
     },
     "execution_count": 118,
     "metadata": {},
     "output_type": "execute_result"
    }
   ],
   "source": [
    "küme3 = {1,2,3}\n",
    "küme1.issuperset(küme3)"
   ]
  },
  {
   "cell_type": "code",
   "execution_count": 121,
   "metadata": {},
   "outputs": [
    {
     "data": {
      "text/plain": [
       "True"
      ]
     },
     "execution_count": 121,
     "metadata": {},
     "output_type": "execute_result"
    }
   ],
   "source": [
    "küme3.issubset(küme1)"
   ]
  },
  {
   "cell_type": "markdown",
   "metadata": {},
   "source": [
    "### Birleşim kümesi  union() \"|\""
   ]
  },
  {
   "cell_type": "code",
   "execution_count": 122,
   "metadata": {},
   "outputs": [
    {
     "data": {
      "text/plain": [
       "{1, 2, 3, 4, 5, 6}"
      ]
     },
     "execution_count": 122,
     "metadata": {},
     "output_type": "execute_result"
    }
   ],
   "source": [
    "küme1.union(küme2)"
   ]
  },
  {
   "cell_type": "code",
   "execution_count": 123,
   "metadata": {},
   "outputs": [
    {
     "data": {
      "text/plain": [
       "{1, 2, 3, 4, 5, 6}"
      ]
     },
     "execution_count": 123,
     "metadata": {},
     "output_type": "execute_result"
    }
   ],
   "source": [
    "küme1|küme2"
   ]
  },
  {
   "cell_type": "markdown",
   "metadata": {},
   "source": [
    "### Asimetrik fark  symmetric_difference() \"^\""
   ]
  },
  {
   "cell_type": "code",
   "execution_count": 126,
   "metadata": {},
   "outputs": [
    {
     "data": {
      "text/plain": [
       "{3, 4, 5, 6}"
      ]
     },
     "execution_count": 126,
     "metadata": {},
     "output_type": "execute_result"
    }
   ],
   "source": [
    "#farkların hepsini verir.\n",
    "küme1.symmetric_difference(küme2)"
   ]
  },
  {
   "cell_type": "code",
   "execution_count": 125,
   "metadata": {},
   "outputs": [
    {
     "data": {
      "text/plain": [
       "{3, 4, 5, 6}"
      ]
     },
     "execution_count": 125,
     "metadata": {},
     "output_type": "execute_result"
    }
   ],
   "source": [
    "küme1^küme2"
   ]
  },
  {
   "cell_type": "markdown",
   "metadata": {},
   "source": [
    "## frozenset()"
   ]
  },
  {
   "cell_type": "code",
   "execution_count": 129,
   "metadata": {},
   "outputs": [
    {
     "name": "stdout",
     "output_type": "stream",
     "text": [
      "frozenset()\n"
     ]
    }
   ],
   "source": [
    "değişmez_küme = frozenset() \n",
    "print(değişmez_küme)"
   ]
  },
  {
   "cell_type": "code",
   "execution_count": 130,
   "metadata": {},
   "outputs": [
    {
     "name": "stdout",
     "output_type": "stream",
     "text": [
      "frozenset({1, 2, 3, 4})\n"
     ]
    }
   ],
   "source": [
    "değişmez_küme = frozenset([1,2,3,1,2,3,4])\n",
    "print(değişmez_küme)"
   ]
  },
  {
   "cell_type": "code",
   "execution_count": 132,
   "metadata": {},
   "outputs": [
    {
     "name": "stdout",
     "output_type": "stream",
     "text": [
      "['__and__', '__class__', '__contains__', '__delattr__', '__dir__', '__doc__', '__eq__', '__format__', '__ge__', '__getattribute__', '__gt__', '__hash__', '__init__', '__init_subclass__', '__iter__', '__le__', '__len__', '__lt__', '__ne__', '__new__', '__or__', '__rand__', '__reduce__', '__reduce_ex__', '__repr__', '__ror__', '__rsub__', '__rxor__', '__setattr__', '__sizeof__', '__str__', '__sub__', '__subclasshook__', '__xor__', 'copy', 'difference', 'intersection', 'isdisjoint', 'issubset', 'issuperset', 'symmetric_difference', 'union']\n"
     ]
    }
   ],
   "source": [
    "print(dir(değişmez_küme))\n",
    "# immutable oldukları için metodaları içinde add(), remove(), update() gibi metodlar yoktur."
   ]
  },
  {
   "cell_type": "markdown",
   "metadata": {},
   "source": [
    "### Mini Proje "
   ]
  },
  {
   "cell_type": "code",
   "execution_count": 144,
   "metadata": {},
   "outputs": [],
   "source": [
    "# kaynak :https://tr.wikipedia.org/wiki/Python_(programlama_dili) sitesinden aşadıki metin sade text olarak alınmıştır. \n",
    "text = \"\"\"Python, nesne yönelimli, yorumlamalı, birimsel (modüler) ve etkileşimli yüksek seviyeli bir programlama dilidir.[4]\n",
    "Girintilere dayalı basit sözdizimi, dilin öğrenilmesini ve akılda kalmasını kolaylaştırır. Bu da ona söz diziminin ayrıntıları ile vakit yitirmeden programlama yapılmaya başlanabilen bir dil olma özelliği kazandırır.\n",
    "Modüler yapısı, sınıf dizgesini (sistem) ve her türlü veri alanı girişini destekler. Hemen hemen her türlü platformda çalışabilir. (Unix , Linux, Mac, Windows, Amiga, Symbian). Python ile sistem programlama, kullanıcı arabirimi programlama, ağ programlama, web programlama, uygulama ve veritabanı yazılımı programlama gibi birçok alanda yazılım geliştirebilirsiniz. Büyük yazılımların hızlı bir şekilde prototiplerinin üretilmesi ve denenmesi gerektiği durumlarda da C ya da C++ gibi dillere tercih edilir.\n",
    "Python 1980'lerin sonunda ABC programlama diline alternatif olarak tasarlanmıştı. Python 2.0, ilk kez 2000 yılında yayınlandı. 2008'de yayınlana Python 3.0, dilin önceki versiyonuyla tam uyumlu değildir ve Python 2.x'te yazılan kodların Python 3.x'te çalışması için değiştirilmesi gerekmektedir. Python 2 versiyonun resmi geliştirilme süreci, dilin son sürümü olan Python 2.7.x serisi versiyonların ardından 1 Ocak 2020 itibarıyla resmi olarak sona erdi.[5][6] Python 2.x geliştirilme desteğinin sona ermesinin ardından, Python dilinin 3.5.x ve sonraki sürümlerinin geliştirilmesi devam etmektedir.[7]\n",
    "Geliştirilmeye 1990 yılında Guido van Rossum tarafından Amsterdam'da başlanmıştır. Adını sanılanın aksine bir yılandan değil Guido van Rossum’un çok sevdiği, Monty Python adlı altı kişilik bir İngiliz komedi grubunun Monty Python’s Flying Circus adlı gösterisinden almıştır. Günümüzde Python Yazılım Vakfı çevresinde toplanan gönüllülerin çabalarıyla sürdürülmektedir. Python 1.0 sürümüne Ocak 1994'te ulaşmıştır. Son kararlı sürümü, 2.x serisinde Python 2.7 ve 3.x serisinde Python 3.5.2'dir. 3 Aralık 2008 tarihinden itibaren 3.x serisi yayınlanmaya başlamıştır; ancak 3.x serisi 2.x serisiyle uyumlu değildir.\n",
    "Django, Zope uygulama sunucuları, YouTube ve orijinal BitTorrent istemcisi Python kullanan önemli projelerden bazılarıdır. Ayrıca Google, NASA ve CERN gibi büyük kurumlar da Python kullanmaktadır.\n",
    "Ayrıca OpenOffice.org, GIMP, Inkscape, Blender, Scribus ve Paint Shop Pro gibi bazı programlarda betik dili olarak kullanılır.\n",
    "Pek çok Linux dağıtımında ve Apple macOS işletim sisteminde Python öntanımlı bir bileşen olarak gelir.\n",
    "Python'un son derece kolay okunabilir olması düşünülmüştür. Bu yüzden örneğin küme parantezleri yerine girintileme işlemi kullanılır. Hatta bazı durumlarda girintileme işlemine dahi gerek kalmadan kodun ilgili bölümü tek satırda yazılabilir. Böylece Python, program kodunuzu en az çaba ile ve hızlıca yazmanıza imkân tanır. Sade sözdizimi ile diğer programlama dillerinden üstündür.\n",
    "Python'da ifade bloklarını sınırlandırmak için süslü ayraçlar ya da anahtar kelimeler yerine beyaz boşluk girintileme kullanılır. Belli ifadelerden sonra girinti artar; girintinin azalması geçerli blokun sonlandığını gösterir.\n",
    " Python ifadeleri şunları içerir:\n",
    "if ifadesi, bir kod blokunu belli bir koşula bağlı olarak, else ve elif (else-if'ın kisaltmasi) ile birlikte çalıştırır.\n",
    "for ifadesi, yinelenebilir bir nesne üzerinden yineleme yapar, bu sırada ilgili bloktaki her ögeyi bir yerel değişkene atar.\n",
    "while ifadesi, koşulu doğru olduğu sürece o kod blokunu çalıştırır.\n",
    "try ifadesi, eklenmiş kod blokundan dolayı oluşan hataları yakalar ve except maddeleriyle; ayrıca finally blokundaki temizleme kodunun blok nasıl sonlanırsa sonlansın çalıştırılmasını sağlar.\n",
    "class ifadesi, bir kod blokunu çalıştırır ve onun yerel adalanını bir sınıfa atar, bu sayede o sınıf Nesne Yönelimli Programlamada kullanılabilir.\n",
    "def ifadesi ile fonksiyon tanımlanır. with ifadesi, bir kod blokunu bir içerik yöneticisine hapseder (örneğin bir kod bloku çalışıtırılmadan önce bir kilit edinir ve sonrasında bu kilidi çözer)\n",
    "pass ifadesi bir NOP görevi görür ve geçici kod bloku yerine kullanılabilir. print ifadesi bir ekrana yazdırma görevi görür. Bu ifade Python 3 sürümüyle birlikte print() fonksiyonu ile değiştirildi.\n",
    "Her ifadenin kendi sözdizimi vardır, örneğin def ifadesi diğer ifadelerin genelinin aksine blokunu anında çalıştırmaz.Nesneler üzerindeki metotlar nesnenin sınıfına eklenmiş fonksiyonlardır; örnek.metod(değişken) sözdizimi, normal metot ve fonksiyonlar için Sınıf.metod(örnek, değişken) ifadesi için bir sözdizimsel şekerdir. Python metotlarının örnek verisine ulaşmaları için açık self parametresine sahip olmaları gerekir. Bu durum Java, C++, Ruby gibi bazı diğer nesne tabanlı programlama diliyle farklılık gösterir.\n",
    "Python'un çok büyük bir standart kütüphanesi vardır. Bu, dilin artı özelliklerinden biri olarak kabul edilir.\"\"\""
   ]
  },
  {
   "cell_type": "code",
   "execution_count": 146,
   "metadata": {},
   "outputs": [],
   "source": [
    "noktalama_işaretleri = '''!()-[]{};:'\"\\,<>./?@#$%^&*_~'''\n",
    "yeni_text = \"\"\"\"\"\"\n",
    "for karakter in text:\n",
    "    if (karakter not in noktalama_işaretleri):\n",
    "        yeni_text += karakter\n",
    "    else:\n",
    "        yeni_text += \" \"\n",
    "        "
   ]
  },
  {
   "cell_type": "code",
   "execution_count": 148,
   "metadata": {},
   "outputs": [
    {
     "data": {
      "text/plain": [
       "4801"
      ]
     },
     "execution_count": 148,
     "metadata": {},
     "output_type": "execute_result"
    }
   ],
   "source": [
    "len(yeni_text)"
   ]
  },
  {
   "cell_type": "code",
   "execution_count": 149,
   "metadata": {},
   "outputs": [],
   "source": [
    "liste = yeni_text.split()"
   ]
  },
  {
   "cell_type": "code",
   "execution_count": 151,
   "metadata": {},
   "outputs": [
    {
     "data": {
      "text/plain": [
       "['Python', 'nesne', 'yönelimli', 'yorumlamalı', 'birimsel']"
      ]
     },
     "execution_count": 151,
     "metadata": {},
     "output_type": "execute_result"
    }
   ],
   "source": [
    "liste[:5]"
   ]
  },
  {
   "cell_type": "code",
   "execution_count": 155,
   "metadata": {},
   "outputs": [
    {
     "name": "stdout",
     "output_type": "stream",
     "text": [
      "{'Python': 26, 'nesne': 3, 'yönelimli': 1, 'yorumlamalı': 1, 'birimsel': 1, 'modüler': 1, 've': 19, 'etkileşimli': 1, 'yüksek': 1, 'seviyeli': 1, 'bir': 20, 'programlama': 10, 'dilidir': 1, '4': 1, 'Girintilere': 1, 'dayalı': 1, 'basit': 1, 'sözdizimi': 4, 'dilin': 4, 'öğrenilmesini': 1, 'akılda': 1, 'kalmasını': 1, 'kolaylaştırır': 1, 'Bu': 5, 'da': 7, 'ona': 1, 'söz': 1, 'diziminin': 1, 'ayrıntıları': 1, 'ile': 7, 'vakit': 1, 'yitirmeden': 1, 'yapılmaya': 1, 'başlanabilen': 1, 'dil': 1, 'olma': 1, 'özelliği': 1, 'kazandırır': 1, 'Modüler': 1, 'yapısı': 1, 'sınıf': 2, 'dizgesini': 1, 'sistem': 2, 'her': 3, 'türlü': 2, 'veri': 1, 'alanı': 1, 'girişini': 1, 'destekler': 1, 'Hemen': 1, 'hemen': 1, 'platformda': 1, 'çalışabilir': 1, 'Unix': 1, 'Linux': 2, 'Mac': 1, 'Windows': 1, 'Amiga': 1, 'Symbian': 1, 'kullanıcı': 1, 'arabirimi': 1, 'ağ': 1, 'web': 1, 'uygulama': 2, 'veritabanı': 1, 'yazılımı': 1, 'gibi': 5, 'birçok': 1, 'alanda': 1, 'yazılım': 1, 'geliştirebilirsiniz': 1, 'Büyük': 1, 'yazılımların': 1, 'hızlı': 1, 'şekilde': 1, 'prototiplerinin': 1, 'üretilmesi': 1, 'denenmesi': 1, 'gerektiği': 1, 'durumlarda': 2, 'C': 1, 'ya': 2, 'C++': 2, 'dillere': 1, 'tercih': 1, 'edilir': 2, '1980': 1, 'lerin': 1, 'sonunda': 1, 'ABC': 1, 'diline': 1, 'alternatif': 1, 'olarak': 6, 'tasarlanmıştı': 1, '2': 9, '0': 3, 'ilk': 1, 'kez': 1, '2000': 1, 'yılında': 2, 'yayınlandı': 1, '2008': 2, 'de': 1, 'yayınlana': 1, '3': 9, 'önceki': 1, 'versiyonuyla': 1, 'tam': 1, 'uyumlu': 2, 'değildir': 2, 'x': 10, 'te': 3, 'yazılan': 1, 'kodların': 1, 'çalışması': 1, 'için': 5, 'değiştirilmesi': 1, 'gerekmektedir': 1, 'versiyonun': 1, 'resmi': 2, 'geliştirilme': 2, 'süreci': 1, 'son': 2, 'sürümü': 2, 'olan': 1, '7': 3, 'serisi': 3, 'versiyonların': 1, 'ardından': 2, '1': 2, 'Ocak': 2, '2020': 1, 'itibarıyla': 1, 'sona': 2, 'erdi': 1, '5': 3, '6': 1, 'desteğinin': 1, 'ermesinin': 1, 'dilinin': 1, 'sonraki': 1, 'sürümlerinin': 1, 'geliştirilmesi': 1, 'devam': 1, 'etmektedir': 1, 'Geliştirilmeye': 1, '1990': 1, 'Guido': 2, 'van': 2, 'Rossum': 1, 'tarafından': 1, 'Amsterdam': 1, 'başlanmıştır': 1, 'Adını': 1, 'sanılanın': 1, 'aksine': 2, 'yılandan': 1, 'değil': 1, 'Rossum’un': 1, 'çok': 3, 'sevdiği': 1, 'Monty': 2, 'adlı': 2, 'altı': 1, 'kişilik': 1, 'İngiliz': 1, 'komedi': 1, 'grubunun': 1, 'Python’s': 1, 'Flying': 1, 'Circus': 1, 'gösterisinden': 1, 'almıştır': 1, 'Günümüzde': 1, 'Yazılım': 1, 'Vakfı': 1, 'çevresinde': 1, 'toplanan': 1, 'gönüllülerin': 1, 'çabalarıyla': 1, 'sürdürülmektedir': 1, 'sürümüne': 1, '1994': 1, 'ulaşmıştır': 1, 'Son': 1, 'kararlı': 1, 'serisinde': 2, 'dir': 1, 'Aralık': 1, 'tarihinden': 1, 'itibaren': 1, 'yayınlanmaya': 1, 'başlamıştır': 1, 'ancak': 1, 'serisiyle': 1, 'Django': 1, 'Zope': 1, 'sunucuları': 1, 'YouTube': 1, 'orijinal': 1, 'BitTorrent': 1, 'istemcisi': 1, 'kullanan': 1, 'önemli': 1, 'projelerden': 1, 'bazılarıdır': 1, 'Ayrıca': 2, 'Google': 1, 'NASA': 1, 'CERN': 1, 'büyük': 2, 'kurumlar': 1, 'kullanmaktadır': 1, 'OpenOffice': 1, 'org': 1, 'GIMP': 1, 'Inkscape': 1, 'Blender': 1, 'Scribus': 1, 'Paint': 1, 'Shop': 1, 'Pro': 1, 'bazı': 3, 'programlarda': 1, 'betik': 1, 'dili': 1, 'kullanılır': 3, 'Pek': 1, 'dağıtımında': 1, 'Apple': 1, 'macOS': 1, 'işletim': 1, 'sisteminde': 1, 'öntanımlı': 1, 'bileşen': 1, 'gelir': 1, 'un': 2, 'derece': 1, 'kolay': 1, 'okunabilir': 1, 'olması': 1, 'düşünülmüştür': 1, 'yüzden': 1, 'örneğin': 3, 'küme': 1, 'parantezleri': 1, 'yerine': 3, 'girintileme': 3, 'işlemi': 1, 'Hatta': 1, 'işlemine': 1, 'dahi': 1, 'gerek': 1, 'kalmadan': 1, 'kodun': 1, 'ilgili': 2, 'bölümü': 1, 'tek': 1, 'satırda': 1, 'yazılabilir': 1, 'Böylece': 1, 'program': 1, 'kodunuzu': 1, 'en': 1, 'az': 1, 'çaba': 1, 'hızlıca': 1, 'yazmanıza': 1, 'imkân': 1, 'tanır': 1, 'Sade': 1, 'diğer': 3, 'dillerinden': 1, 'üstündür': 1, 'ifade': 2, 'bloklarını': 1, 'sınırlandırmak': 1, 'süslü': 1, 'ayraçlar': 1, 'anahtar': 1, 'kelimeler': 1, 'beyaz': 1, 'boşluk': 1, 'Belli': 1, 'ifadelerden': 1, 'sonra': 1, 'girinti': 1, 'artar': 1, 'girintinin': 1, 'azalması': 1, 'geçerli': 1, 'blokun': 1, 'sonlandığını': 1, 'gösterir': 2, 'ifadeleri': 1, 'şunları': 1, 'içerir': 1, 'if': 2, 'ifadesi': 11, 'kod': 7, 'blokunu': 5, 'belli': 1, 'koşula': 1, 'bağlı': 1, 'else': 2, 'elif': 1, 'ın': 1, 'kisaltmasi': 1, 'birlikte': 2, 'çalıştırır': 3, 'for': 1, 'yinelenebilir': 1, 'üzerinden': 1, 'yineleme': 1, 'yapar': 1, 'bu': 3, 'sırada': 1, 'bloktaki': 1, 'ögeyi': 1, 'yerel': 2, 'değişkene': 1, 'atar': 2, 'while': 1, 'koşulu': 1, 'doğru': 1, 'olduğu': 1, 'sürece': 1, 'o': 2, 'try': 1, 'eklenmiş': 2, 'blokundan': 1, 'dolayı': 1, 'oluşan': 1, 'hataları': 1, 'yakalar': 1, 'except': 1, 'maddeleriyle': 1, 'ayrıca': 1, 'finally': 1, 'blokundaki': 1, 'temizleme': 1, 'kodunun': 1, 'blok': 1, 'nasıl': 1, 'sonlanırsa': 1, 'sonlansın': 1, 'çalıştırılmasını': 1, 'sağlar': 1, 'class': 1, 'onun': 1, 'adalanını': 1, 'sınıfa': 1, 'sayede': 1, 'Nesne': 1, 'Yönelimli': 1, 'Programlamada': 1, 'kullanılabilir': 2, 'def': 2, 'fonksiyon': 1, 'tanımlanır': 1, 'with': 1, 'içerik': 1, 'yöneticisine': 1, 'hapseder': 1, 'bloku': 2, 'çalışıtırılmadan': 1, 'önce': 1, 'kilit': 1, 'edinir': 1, 'sonrasında': 1, 'kilidi': 1, 'çözer': 1, 'pass': 1, 'NOP': 1, 'görevi': 2, 'görür': 2, 'geçici': 1, 'print': 2, 'ekrana': 1, 'yazdırma': 1, 'sürümüyle': 1, 'fonksiyonu': 1, 'değiştirildi': 1, 'Her': 1, 'ifadenin': 1, 'kendi': 1, 'vardır': 2, 'ifadelerin': 1, 'genelinin': 1, 'anında': 1, 'çalıştırmaz': 1, 'Nesneler': 1, 'üzerindeki': 1, 'metotlar': 1, 'nesnenin': 1, 'sınıfına': 1, 'fonksiyonlardır': 1, 'örnek': 3, 'metod': 2, 'değişken': 2, 'normal': 1, 'metot': 1, 'fonksiyonlar': 1, 'Sınıf': 1, 'sözdizimsel': 1, 'şekerdir': 1, 'metotlarının': 1, 'verisine': 1, 'ulaşmaları': 1, 'açık': 1, 'self': 1, 'parametresine': 1, 'sahip': 1, 'olmaları': 1, 'gerekir': 1, 'durum': 1, 'Java': 1, 'Ruby': 1, 'tabanlı': 1, 'diliyle': 1, 'farklılık': 1, 'standart': 1, 'kütüphanesi': 1, 'artı': 1, 'özelliklerinden': 1, 'biri': 1, 'kabul': 1}\n"
     ]
    }
   ],
   "source": [
    "sözlük = {}\n",
    "for kelime in liste:\n",
    "    if kelime not in sözlük:\n",
    "        sözlük[kelime] = 1\n",
    "    else:\n",
    "        sözlük[kelime] +=1\n",
    "print(sözlük)"
   ]
  },
  {
   "cell_type": "code",
   "execution_count": 160,
   "metadata": {},
   "outputs": [
    {
     "data": {
      "text/plain": [
       "427"
      ]
     },
     "execution_count": 160,
     "metadata": {},
     "output_type": "execute_result"
    }
   ],
   "source": [
    "len(sözlük)"
   ]
  },
  {
   "cell_type": "code",
   "execution_count": null,
   "metadata": {},
   "outputs": [],
   "source": []
  },
  {
   "cell_type": "code",
   "execution_count": null,
   "metadata": {},
   "outputs": [],
   "source": []
  }
 ],
 "metadata": {
  "kernelspec": {
   "display_name": "Python 3",
   "language": "python",
   "name": "python3"
  },
  "language_info": {
   "codemirror_mode": {
    "name": "ipython",
    "version": 3
   },
   "file_extension": ".py",
   "mimetype": "text/x-python",
   "name": "python",
   "nbconvert_exporter": "python",
   "pygments_lexer": "ipython3",
   "version": "3.7.4"
  }
 },
 "nbformat": 4,
 "nbformat_minor": 4
}
