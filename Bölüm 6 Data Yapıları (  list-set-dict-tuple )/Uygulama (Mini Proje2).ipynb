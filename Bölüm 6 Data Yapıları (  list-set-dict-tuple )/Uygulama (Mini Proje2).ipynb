{
 "cells": [
  {
   "cell_type": "markdown",
   "metadata": {},
   "source": [
    "### Uygulama Mini Proje-2"
   ]
  },
  {
   "cell_type": "raw",
   "metadata": {},
   "source": [
    "1.Text de yer alan kelimelerin sıklıklarını gösteren bir sözlük oluşturalım.\n",
    "2.Sıralama tablosu yazdıralım.\n",
    "\n",
    "S.NO KELİME\t     TEKRAR\n",
    "-------------------------\n",
    "01.  python      :  23\n",
    "02.  bir         :  20\n",
    "03.  ve          :  19\n",
    "04.  ifadesi     :  11\n",
    "05.  programlama :  10\n",
    "..."
   ]
  },
  {
   "cell_type": "code",
   "execution_count": 1,
   "metadata": {},
   "outputs": [],
   "source": [
    "# kaynak :https://tr.wikipedia.org/wiki/Python_(programlama_dili) sitesinden aşadıki metin sade text olarak alınmıştır. \n",
    "text = \"\"\"Python, nesne yönelimli, yorumlamalı, birimsel (modüler) ve etkileşimli yüksek seviyeli bir programlama dilidir.[] Girintilere dayalı basit sözdizimi, dilin öğrenilmesini ve akılda kalmasını kolaylaştırır. Bu da ona söz diziminin ayrıntıları ile vakit yitirmeden programlama yapılmaya başlanabilen bir dil olma özelliği kazandırır.\n",
    "Modüler yapısı, sınıf dizgesini (sistem) ve her türlü veri alanı girişini destekler. Hemen hemen her türlü platformda çalışabilir. (Unix , Linux, Mac, Windows, Amiga, Symbian). Python ile sistem programlama, kullanıcı arabirimi programlama, ağ programlama, web programlama, uygulama ve veritabanı yazılımı programlama gibi birçok alanda yazılım geliştirebilirsiniz. Büyük yazılımların hızlı bir şekilde prototiplerinin üretilmesi ve denenmesi gerektiği durumlarda da C ya da C++ gibi dillere tercih edilir.\n",
    "Python 1980'lerin sonunda ABC programlama diline alternatif olarak tasarlanmıştı. Python 2.0, ilk kez 2000 yılında yayınlandı. 2008'de yayınlana Python 3.0, dilin önceki versiyonuyla tam uyumlu değildir ve Python 2.x'te yazılan kodların Python 3.x'te çalışması için değiştirilmesi gerekmektedir. Python 2 versiyonun resmi geliştirilme süreci, dilin son sürümü olan Python 2.7.x serisi versiyonların ardından 1 Ocak 2020 itibarıyla resmi olarak sona erdi.[5][6] Python 2.x geliştirilme desteğinin sona ermesinin ardından, Python dilinin 3.5.x ve sonraki sürümlerinin geliştirilmesi devam etmektedir.[7]\n",
    "Geliştirilmeye 1990 yılında Guido van Rossum tarafından Amsterdam'da başlanmıştır. Adını sanılanın aksine bir yılandan değil Guido van Rossum’un çok sevdiği, Monty Python adlı altı kişilik bir İngiliz komedi grubunun Monty Python’s Flying Circus adlı gösterisinden almıştır. Günümüzde Python Yazılım Vakfı çevresinde toplanan gönüllülerin çabalarıyla sürdürülmektedir. Python 1.0 sürümüne Ocak 1994'te ulaşmıştır. Son kararlı sürümü, 2.x serisinde Python 2.7 ve 3.x serisinde Python 3.5.2'dir. 3 Aralık 2008 tarihinden itibaren 3.x serisi yayınlanmaya başlamıştır; ancak 3.x serisi 2.x serisiyle uyumlu değildir.\n",
    "Django, Zope uygulama sunucuları, YouTube ve orijinal BitTorrent istemcisi Python kullanan önemli projelerden bazılarıdır. Ayrıca Google, NASA ve CERN gibi büyük kurumlar da Python kullanmaktadır.\n",
    "Ayrıca OpenOffice.org, GIMP, Inkscape, Blender, Scribus ve Paint Shop Pro gibi bazı programlarda betik dili olarak kullanılır.\n",
    "Pek çok Linux dağıtımında ve Apple macOS işletim sisteminde Python öntanımlı bir bileşen olarak gelir.\n",
    "Python'un son derece kolay okunabilir olması düşünülmüştür. Bu yüzden örneğin küme parantezleri yerine girintileme işlemi kullanılır. Hatta bazı durumlarda girintileme işlemine dahi gerek kalmadan kodun ilgili bölümü tek satırda yazılabilir. Böylece Python, program kodunuzu en az çaba ile ve hızlıca yazmanıza imkân tanır. Sade sözdizimi ile diğer programlama dillerinden üstündür.\n",
    "Python'da ifade bloklarını sınırlandırmak için süslü ayraçlar ya da anahtar kelimeler yerine beyaz boşluk girintileme kullanılır. Belli ifadelerden sonra girinti artar; girintinin azalması geçerli blokun sonlandığını gösterir.\n",
    " Python ifadeleri şunları içerir:\n",
    "if ifadesi, bir kod blokunu belli bir koşula bağlı olarak, else ve elif (else-if'ın kisaltmasi) ile birlikte çalıştırır.\n",
    "for ifadesi, yinelenebilir bir nesne üzerinden yineleme yapar, bu sırada ilgili bloktaki her ögeyi bir yerel değişkene atar.\n",
    "while ifadesi, koşulu doğru olduğu sürece o kod blokunu çalıştırır.\n",
    "try ifadesi, eklenmiş kod blokundan dolayı oluşan hataları yakalar ve except maddeleriyle; ayrıca finally blokundaki temizleme kodunun blok nasıl sonlanırsa sonlansın çalıştırılmasını sağlar.\n",
    "class ifadesi, bir kod blokunu çalıştırır ve onun yerel adalanını bir sınıfa atar, bu sayede o sınıf Nesne Yönelimli Programlamada kullanılabilir.\n",
    "def ifadesi ile fonksiyon tanımlanır. with ifadesi, bir kod blokunu bir içerik yöneticisine hapseder (örneğin bir kod bloku çalışıtırılmadan önce bir kilit edinir ve sonrasında bu kilidi çözer)\n",
    "pass ifadesi bir NOP görevi görür ve geçici kod bloku yerine kullanılabilir. print ifadesi bir ekrana yazdırma görevi görür. Bu ifade Python 3 sürümüyle birlikte print() fonksiyonu ile değiştirildi.\n",
    "Her ifadenin kendi sözdizimi vardır, örneğin def ifadesi diğer ifadelerin genelinin aksine blokunu anında çalıştırmaz.Nesneler üzerindeki metotlar nesnenin sınıfına eklenmiş fonksiyonlardır; örnek.metod(değişken) sözdizimi, normal metot ve fonksiyonlar için Sınıf.metod(örnek, değişken) ifadesi için bir sözdizimsel şekerdir. Python metotlarının örnek verisine ulaşmaları için açık self parametresine sahip olmaları gerekir. \n",
    "Bu durum Java, C++, Ruby gibi bazı diğer nesne tabanlı programlama diliyle farklılık gösterir.\n",
    "Python'un çok büyük bir standart kütüphanesi vardır. Bu, dilin artı özelliklerinden biri olarak kabul edilir.\"\"\""
   ]
  },
  {
   "cell_type": "code",
   "execution_count": 3,
   "metadata": {},
   "outputs": [],
   "source": [
    "noktalamaişaretleri = '''!()-[]{};:'\"\\,<>./?@#$%^&*_~'''"
   ]
  },
  {
   "cell_type": "markdown",
   "metadata": {},
   "source": [
    "### 1.Adım: Text işlemleri"
   ]
  },
  {
   "cell_type": "code",
   "execution_count": 2,
   "metadata": {
    "collapsed": true
   },
   "outputs": [
    {
     "data": {
      "text/plain": [
       "\"python, nesne yönelimli, yorumlamalı, birimsel (modüler) ve etkileşimli yüksek seviyeli bir programlama dilidir.[] girintilere dayalı basit sözdizimi, dilin öğrenilmesini ve akılda kalmasını kolaylaştırır. bu da ona söz diziminin ayrıntıları ile vakit yitirmeden programlama yapılmaya başlanabilen bir dil olma özelliği kazandırır.\\nmodüler yapısı, sınıf dizgesini (sistem) ve her türlü veri alanı girişini destekler. hemen hemen her türlü platformda çalışabilir. (unix , linux, mac, windows, amiga, symbian). python ile sistem programlama, kullanıcı arabirimi programlama, ağ programlama, web programlama, uygulama ve veritabanı yazılımı programlama gibi birçok alanda yazılım geliştirebilirsiniz. büyük yazılımların hızlı bir şekilde prototiplerinin üretilmesi ve denenmesi gerektiği durumlarda da c ya da c++ gibi dillere tercih edilir.\\npython 1980'lerin sonunda abc programlama diline alternatif olarak tasarlanmıştı. python 2.0, ilk kez 2000 yılında yayınlandı. 2008'de yayınlana python 3.0, dilin önceki versiyonuyla tam uyumlu değildir ve python 2.x'te yazılan kodların python 3.x'te çalışması için değiştirilmesi gerekmektedir. python 2 versiyonun resmi geliştirilme süreci, dilin son sürümü olan python 2.7.x serisi versiyonların ardından 1 ocak 2020 itibarıyla resmi olarak sona erdi.[5][6] python 2.x geliştirilme desteğinin sona ermesinin ardından, python dilinin 3.5.x ve sonraki sürümlerinin geliştirilmesi devam etmektedir.[7]\\ngeliştirilmeye 1990 yılında guido van rossum tarafından amsterdam'da başlanmıştır. adını sanılanın aksine bir yılandan değil guido van rossum’un çok sevdiği, monty python adlı altı kişilik bir i̇ngiliz komedi grubunun monty python’s flying circus adlı gösterisinden almıştır. günümüzde python yazılım vakfı çevresinde toplanan gönüllülerin çabalarıyla sürdürülmektedir. python 1.0 sürümüne ocak 1994'te ulaşmıştır. son kararlı sürümü, 2.x serisinde python 2.7 ve 3.x serisinde python 3.5.2'dir. 3 aralık 2008 tarihinden itibaren 3.x serisi yayınlanmaya başlamıştır; ancak 3.x serisi 2.x serisiyle uyumlu değildir.\\ndjango, zope uygulama sunucuları, youtube ve orijinal bittorrent istemcisi python kullanan önemli projelerden bazılarıdır. ayrıca google, nasa ve cern gibi büyük kurumlar da python kullanmaktadır.\\nayrıca openoffice.org, gimp, inkscape, blender, scribus ve paint shop pro gibi bazı programlarda betik dili olarak kullanılır.\\npek çok linux dağıtımında ve apple macos işletim sisteminde python öntanımlı bir bileşen olarak gelir.\\npython'un son derece kolay okunabilir olması düşünülmüştür. bu yüzden örneğin küme parantezleri yerine girintileme işlemi kullanılır. hatta bazı durumlarda girintileme işlemine dahi gerek kalmadan kodun ilgili bölümü tek satırda yazılabilir. böylece python, program kodunuzu en az çaba ile ve hızlıca yazmanıza imkân tanır. sade sözdizimi ile diğer programlama dillerinden üstündür.\\npython'da ifade bloklarını sınırlandırmak için süslü ayraçlar ya da anahtar kelimeler yerine beyaz boşluk girintileme kullanılır. belli ifadelerden sonra girinti artar; girintinin azalması geçerli blokun sonlandığını gösterir.\\n python ifadeleri şunları içerir:\\nif ifadesi, bir kod blokunu belli bir koşula bağlı olarak, else ve elif (else-if'ın kisaltmasi) ile birlikte çalıştırır.\\nfor ifadesi, yinelenebilir bir nesne üzerinden yineleme yapar, bu sırada ilgili bloktaki her ögeyi bir yerel değişkene atar.\\nwhile ifadesi, koşulu doğru olduğu sürece o kod blokunu çalıştırır.\\ntry ifadesi, eklenmiş kod blokundan dolayı oluşan hataları yakalar ve except maddeleriyle; ayrıca finally blokundaki temizleme kodunun blok nasıl sonlanırsa sonlansın çalıştırılmasını sağlar.\\nclass ifadesi, bir kod blokunu çalıştırır ve onun yerel adalanını bir sınıfa atar, bu sayede o sınıf nesne yönelimli programlamada kullanılabilir.\\ndef ifadesi ile fonksiyon tanımlanır. with ifadesi, bir kod blokunu bir içerik yöneticisine hapseder (örneğin bir kod bloku çalışıtırılmadan önce bir kilit edinir ve sonrasında bu kilidi çözer)\\npass ifadesi bir nop görevi görür ve geçici kod bloku yerine kullanılabilir. print ifadesi bir ekrana yazdırma görevi görür. bu ifade python 3 sürümüyle birlikte print() fonksiyonu ile değiştirildi.\\nher ifadenin kendi sözdizimi vardır, örneğin def ifadesi diğer ifadelerin genelinin aksine blokunu anında çalıştırmaz.nesneler üzerindeki metotlar nesnenin sınıfına eklenmiş fonksiyonlardır; örnek.metod(değişken) sözdizimi, normal metot ve fonksiyonlar için sınıf.metod(örnek, değişken) ifadesi için bir sözdizimsel şekerdir. python metotlarının örnek verisine ulaşmaları için açık self parametresine sahip olmaları gerekir. \\nbu durum java, c++, ruby gibi bazı diğer nesne tabanlı programlama diliyle farklılık gösterir.\\npython'un çok büyük bir standart kütüphanesi vardır. bu, dilin artı özelliklerinden biri olarak kabul edilir.\""
      ]
     },
     "execution_count": 2,
     "metadata": {},
     "output_type": "execute_result"
    }
   ],
   "source": [
    "# tüm kelimeleri küçük harfe çeviriyoruz.\n",
    "text = text.lower()\n",
    "text[:250]"
   ]
  },
  {
   "cell_type": "code",
   "execution_count": 6,
   "metadata": {},
   "outputs": [
    {
     "name": "stdout",
     "output_type": "stream",
     "text": [
      "python nesne yönelimli yorumlamalı birimsel modüler ve etkileşimli yüksek seviyeli bir programlama dilidir girintilere dayalı basit sözdizimi dilin öğrenilmesini ve akılda kalmasını kolaylaştırır bu da ona söz diziminin ayrıntıları ile vakit yitirmed\n"
     ]
    }
   ],
   "source": [
    "# noktalama işaretlerinden ayıklayıp, yeni bir text dosyası oluşturuyoruz.\n",
    "text1= \"\"\"\"\"\"\n",
    "for k in text:\n",
    "    if k not in noktalamaişaretleri:\n",
    "        text1 += k\n",
    "print(text1[:250])"
   ]
  },
  {
   "cell_type": "code",
   "execution_count": null,
   "metadata": {},
   "outputs": [],
   "source": []
  },
  {
   "cell_type": "markdown",
   "metadata": {},
   "source": [
    "### 2. Adım: Sözlük oluşturma"
   ]
  },
  {
   "cell_type": "code",
   "execution_count": 5,
   "metadata": {},
   "outputs": [
    {
     "data": {
      "text/plain": [
       "['python',\n",
       " 'nesne',\n",
       " 'yönelimli',\n",
       " 'yorumlamalı',\n",
       " 'birimsel',\n",
       " 'modüler',\n",
       " 've',\n",
       " 'etkileşimli',\n",
       " 'yüksek',\n",
       " 'seviyeli']"
      ]
     },
     "execution_count": 5,
     "metadata": {},
     "output_type": "execute_result"
    }
   ],
   "source": [
    "# boş bir sözlük oluşturuyoruz\n",
    "d = {}\n",
    "liste = text1.split() # texti listeye çevirdik.\n",
    "liste[:10]"
   ]
  },
  {
   "cell_type": "code",
   "execution_count": 21,
   "metadata": {
    "collapsed": true
   },
   "outputs": [
    {
     "name": "stdout",
     "output_type": "stream",
     "text": [
      "{'python': 46, 'nesne': 8, 'yönelimli': 4, 'yorumlamalı': 2, 'birimsel': 2, 'modüler': 4, 've': 1, 'etkileşimli': 2, 'yüksek': 2, 'seviyeli': 2, 'bir': 40, 'programlama': 20, 'dilidir': 2, 'girintilere': 2, 'dayalı': 2, 'basit': 2, 'sözdizimi': 8, 'dilin': 8, 'öğrenilmesini': 2, 'akılda': 2, 'kalmasını': 2, 'kolaylaştırır': 2, 'bu': 1, 'da': 1, 'ona': 2, 'söz': 2, 'diziminin': 2, 'ayrıntıları': 2, 'ile': 14, 'vakit': 2, 'yitirmeden': 2, 'yapılmaya': 2, 'başlanabilen': 2, 'dil': 2, 'olma': 2, 'özelliği': 2, 'kazandırır': 2, 'yapısı': 2, 'sınıf': 4, 'dizgesini': 2, 'sistem': 4, 'her': 8, 'türlü': 4, 'veri': 2, 'alanı': 2, 'girişini': 2, 'destekler': 2, 'hemen': 4, 'platformda': 2, 'çalışabilir': 2, 'unix': 2, 'linux': 4, 'mac': 2, 'windows': 2, 'amiga': 2, 'symbian': 2, 'kullanıcı': 2, 'arabirimi': 2, 'ağ': 1, 'web': 2, 'uygulama': 4, 'veritabanı': 2, 'yazılımı': 2, 'gibi': 10, 'birçok': 2, 'alanda': 2, 'yazılım': 4, 'geliştirebilirsiniz': 2, 'büyük': 6, 'yazılımların': 2, 'hızlı': 2, 'şekilde': 2, 'prototiplerinin': 2, 'üretilmesi': 2, 'denenmesi': 2, 'gerektiği': 2, 'durumlarda': 4, 'c': 1, 'ya': 1, 'c++': 4, 'dillere': 2, 'tercih': 2, 'edilir': 4, '1980lerin': 2, 'sonunda': 2, 'abc': 2, 'diline': 2, 'alternatif': 2, 'olarak': 12, 'tasarlanmıştı': 2, '20': 1, 'ilk': 2, 'kez': 2, '2000': 2, 'yılında': 4, 'yayınlandı': 2, '2008de': 2, 'yayınlana': 2, '30': 1, 'önceki': 2, 'versiyonuyla': 2, 'tam': 2, 'uyumlu': 4, 'değildir': 4, '2xte': 2, 'yazılan': 2, 'kodların': 2, '3xte': 2, 'çalışması': 2, 'için': 10, 'değiştirilmesi': 2, 'gerekmektedir': 2, '2': 1, 'versiyonun': 2, 'resmi': 4, 'geliştirilme': 4, 'süreci': 2, 'son': 6, 'sürümü': 4, 'olan': 2, '27x': 2, 'serisi': 6, 'versiyonların': 2, 'ardından': 4, '1': 1, 'ocak': 4, '2020': 2, 'itibarıyla': 2, 'sona': 4, 'erdi56': 2, '2x': 1, 'desteğinin': 2, 'ermesinin': 2, 'dilinin': 2, '35x': 2, 'sonraki': 2, 'sürümlerinin': 2, 'geliştirilmesi': 2, 'devam': 2, 'etmektedir7': 2, 'geliştirilmeye': 2, '1990': 2, 'guido': 4, 'van': 4, 'rossum': 2, 'tarafından': 2, 'amsterdamda': 2, 'başlanmıştır': 2, 'adını': 2, 'sanılanın': 2, 'aksine': 4, 'yılandan': 2, 'değil': 2, 'rossum’un': 2, 'çok': 6, 'sevdiği': 2, 'monty': 4, 'adlı': 4, 'altı': 2, 'kişilik': 2, 'i̇ngiliz': 2, 'komedi': 2, 'grubunun': 2, 'python’s': 2, 'flying': 2, 'circus': 2, 'gösterisinden': 2, 'almıştır': 2, 'günümüzde': 2, 'vakfı': 2, 'çevresinde': 2, 'toplanan': 2, 'gönüllülerin': 2, 'çabalarıyla': 2, 'sürdürülmektedir': 2, '10': 1, 'sürümüne': 2, '1994te': 2, 'ulaşmıştır': 2, 'kararlı': 2, 'serisinde': 4, '27': 1, '3x': 1, '352dir': 2, '3': 1, 'aralık': 2, '2008': 2, 'tarihinden': 2, 'itibaren': 2, 'yayınlanmaya': 2, 'başlamıştır': 2, 'ancak': 2, 'serisiyle': 2, 'django': 2, 'zope': 2, 'sunucuları': 2, 'youtube': 2, 'orijinal': 2, 'bittorrent': 2, 'istemcisi': 2, 'kullanan': 2, 'önemli': 2, 'projelerden': 2, 'bazılarıdır': 2, 'ayrıca': 6, 'google': 2, 'nasa': 2, 'cern': 2, 'kurumlar': 2, 'kullanmaktadır': 2, 'openofficeorg': 2, 'gimp': 2, 'inkscape': 2, 'blender': 2, 'scribus': 2, 'paint': 2, 'shop': 2, 'pro': 2, 'bazı': 6, 'programlarda': 2, 'betik': 2, 'dili': 2, 'kullanılır': 6, 'pek': 2, 'dağıtımında': 2, 'apple': 2, 'macos': 2, 'işletim': 2, 'sisteminde': 2, 'öntanımlı': 2, 'bileşen': 2, 'gelir': 2, 'pythonun': 4, 'derece': 2, 'kolay': 2, 'okunabilir': 2, 'olması': 2, 'düşünülmüştür': 2, 'yüzden': 2, 'örneğin': 6, 'küme': 2, 'parantezleri': 2, 'yerine': 6, 'girintileme': 6, 'işlemi': 2, 'hatta': 2, 'işlemine': 2, 'dahi': 2, 'gerek': 2, 'kalmadan': 2, 'kodun': 2, 'ilgili': 4, 'bölümü': 2, 'tek': 2, 'satırda': 2, 'yazılabilir': 2, 'böylece': 2, 'program': 2, 'kodunuzu': 2, 'en': 1, 'az': 1, 'çaba': 2, 'hızlıca': 2, 'yazmanıza': 2, 'imkân': 2, 'tanır': 2, 'sade': 2, 'diğer': 6, 'dillerinden': 2, 'üstündür': 2, 'pythonda': 2, 'ifade': 4, 'bloklarını': 2, 'sınırlandırmak': 2, 'süslü': 2, 'ayraçlar': 2, 'anahtar': 2, 'kelimeler': 2, 'beyaz': 2, 'boşluk': 2, 'belli': 4, 'ifadelerden': 2, 'sonra': 2, 'girinti': 2, 'artar': 2, 'girintinin': 2, 'azalması': 2, 'geçerli': 2, 'blokun': 2, 'sonlandığını': 2, 'gösterir': 4, 'ifadeleri': 2, 'şunları': 2, 'içerir': 2, 'if': 1, 'ifadesi': 22, 'kod': 14, 'blokunu': 10, 'koşula': 2, 'bağlı': 2, 'else': 2, 'elif': 2, 'elseifın': 2, 'kisaltmasi': 2, 'birlikte': 4, 'çalıştırır': 6, 'for': 2, 'yinelenebilir': 2, 'üzerinden': 2, 'yineleme': 2, 'yapar': 2, 'sırada': 2, 'bloktaki': 2, 'ögeyi': 2, 'yerel': 4, 'değişkene': 2, 'atar': 4, 'while': 2, 'koşulu': 2, 'doğru': 2, 'olduğu': 2, 'sürece': 2, 'o': 1, 'try': 2, 'eklenmiş': 4, 'blokundan': 2, 'dolayı': 2, 'oluşan': 2, 'hataları': 2, 'yakalar': 2, 'except': 2, 'maddeleriyle': 2, 'finally': 2, 'blokundaki': 2, 'temizleme': 2, 'kodunun': 2, 'blok': 2, 'nasıl': 2, 'sonlanırsa': 2, 'sonlansın': 2, 'çalıştırılmasını': 2, 'sağlar': 2, 'class': 2, 'onun': 2, 'adalanını': 2, 'sınıfa': 2, 'sayede': 2, 'programlamada': 2, 'kullanılabilir': 4, 'def': 4, 'fonksiyon': 2, 'tanımlanır': 2, 'with': 2, 'içerik': 2, 'yöneticisine': 2, 'hapseder': 2, 'bloku': 4, 'çalışıtırılmadan': 2, 'önce': 2, 'kilit': 2, 'edinir': 2, 'sonrasında': 2, 'kilidi': 2, 'çözer': 2, 'pass': 2, 'nop': 2, 'görevi': 4, 'görür': 4, 'geçici': 2, 'print': 4, 'ekrana': 2, 'yazdırma': 2, 'sürümüyle': 2, 'fonksiyonu': 2, 'değiştirildi': 2, 'ifadenin': 2, 'kendi': 2, 'vardır': 4, 'ifadelerin': 2, 'genelinin': 2, 'anında': 2, 'çalıştırmaznesneler': 2, 'üzerindeki': 2, 'metotlar': 2, 'nesnenin': 2, 'sınıfına': 2, 'fonksiyonlardır': 2, 'örnekmetoddeğişken': 2, 'normal': 2, 'metot': 2, 'fonksiyonlar': 2, 'sınıfmetodörnek': 2, 'değişken': 2, 'sözdizimsel': 2, 'şekerdir': 2, 'metotlarının': 2, 'örnek': 2, 'verisine': 2, 'ulaşmaları': 2, 'açık': 2, 'self': 2, 'parametresine': 2, 'sahip': 2, 'olmaları': 2, 'gerekir': 2, 'durum': 2, 'java': 2, 'ruby': 2, 'tabanlı': 2, 'diliyle': 2, 'farklılık': 2, 'standart': 2, 'kütüphanesi': 2, 'artı': 2, 'özelliklerinden': 2, 'biri': 2, 'kabul': 2}\n"
     ]
    }
   ],
   "source": [
    "# kelimeleri tekrar sayıları ile birlikte sölüğe ekliyoruz.\n",
    "\n",
    "for kelime in liste:\n",
    "    if kelime in d and len(kelime)>2:\n",
    "        d[kelime] +=1\n",
    "    else:\n",
    "        d[kelime] = 1\n",
    "        \n",
    "print(d)"
   ]
  },
  {
   "cell_type": "code",
   "execution_count": null,
   "metadata": {},
   "outputs": [],
   "source": []
  },
  {
   "cell_type": "markdown",
   "metadata": {},
   "source": [
    "### 3.Adım: Sonuçları yazdırma"
   ]
  },
  {
   "cell_type": "code",
   "execution_count": 22,
   "metadata": {},
   "outputs": [
    {
     "data": {
      "text/plain": [
       "['python',\n",
       " 'bir',\n",
       " 'ifadesi',\n",
       " 'programlama',\n",
       " 'ile',\n",
       " 'kod',\n",
       " 'olarak',\n",
       " 'gibi',\n",
       " 'için',\n",
       " 'blokunu']"
      ]
     },
     "execution_count": 22,
     "metadata": {},
     "output_type": "execute_result"
    }
   ],
   "source": [
    "# sözlük keylerinden sıklık değerine göre bir sıralama yapıyoruz.\n",
    "sliste = sorted(d, key=d.get, reverse=True)\n",
    "sliste[:10]"
   ]
  },
  {
   "cell_type": "code",
   "execution_count": 24,
   "metadata": {},
   "outputs": [
    {
     "name": "stdout",
     "output_type": "stream",
     "text": [
      "S.NO KELİME\t TEKRAR\n",
      "-------------------------\n",
      "  1. python      : 46\n",
      "  2. bir         : 40\n",
      "  3. ifadesi     : 22\n",
      "  4. programlama : 20\n",
      "  5. ile         : 14\n"
     ]
    }
   ],
   "source": [
    "# for döngüsü ve ile ilk 5 değeri yazdırıyoruz.\n",
    "i = 0\n",
    "print(\"S.NO KELİME\\t TEKRAR\")\n",
    "print(\"-\"*25)\n",
    "for k in sliste:\n",
    "    i += 1\n",
    "    print(f\"{i:3}. {k:12}: {d[k]:2}\")\n",
    "    if i == 5:\n",
    "        break"
   ]
  },
  {
   "cell_type": "code",
   "execution_count": null,
   "metadata": {},
   "outputs": [],
   "source": []
  },
  {
   "cell_type": "code",
   "execution_count": null,
   "metadata": {},
   "outputs": [],
   "source": []
  }
 ],
 "metadata": {
  "kernelspec": {
   "display_name": "Python 3",
   "language": "python",
   "name": "python3"
  },
  "language_info": {
   "codemirror_mode": {
    "name": "ipython",
    "version": 3
   },
   "file_extension": ".py",
   "mimetype": "text/x-python",
   "name": "python",
   "nbconvert_exporter": "python",
   "pygments_lexer": "ipython3",
   "version": "3.7.4"
  }
 },
 "nbformat": 4,
 "nbformat_minor": 4
}
