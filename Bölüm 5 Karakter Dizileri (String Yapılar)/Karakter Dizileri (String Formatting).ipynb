{
 "cells": [
  {
   "cell_type": "markdown",
   "metadata": {},
   "source": [
    "# Strings"
   ]
  },
  {
   "cell_type": "markdown",
   "metadata": {},
   "source": [
    "### escape karakterleri"
   ]
  },
  {
   "cell_type": "code",
   "execution_count": 14,
   "metadata": {},
   "outputs": [
    {
     "name": "stdout",
     "output_type": "stream",
     "text": [
      " İsmi:Hakan\n",
      " Mesleği:AI Engineer\n",
      " Tecrübe: 10 yıl\n"
     ]
    }
   ],
   "source": [
    "print(\" İsmi:Hakan\\n Mesleği:AI Engineer\\n Tecrübe: 10 yıl\")"
   ]
  },
  {
   "cell_type": "code",
   "execution_count": null,
   "metadata": {},
   "outputs": [],
   "source": [
    "# ekrana yazdıralım Atatürk, \"Ben sporcunun zeki, çevik ve aynı zamanda ahlaklı olanını severim.\"der.\n"
   ]
  },
  {
   "cell_type": "markdown",
   "metadata": {},
   "source": [
    "### string birleştirme -concatination"
   ]
  },
  {
   "cell_type": "code",
   "execution_count": null,
   "metadata": {},
   "outputs": [],
   "source": [
    "# str1 ve str2 birleştirelim\n",
    "str1 = 'Python'\n",
    "str2 = \"JavaScript\"\n",
    "print(str1+str2)"
   ]
  },
  {
   "cell_type": "code",
   "execution_count": null,
   "metadata": {},
   "outputs": [],
   "source": [
    "#Düzeltilmiş boşluk eklenmiş şekli ile aynı işlemi yapalım\n",
    "print(str1+\" \"+str2)"
   ]
  },
  {
   "cell_type": "markdown",
   "metadata": {},
   "source": [
    "### ''' text'''"
   ]
  },
  {
   "cell_type": "code",
   "execution_count": null,
   "metadata": {},
   "outputs": [],
   "source": [
    "# metnin çıktısını yazıldığı gibi verir\n",
    "print(\"\"\"\n",
    "Sevgili günlük,\n",
    "artık uzaktan online pyton eğitimi yapacağız\n",
    ".....\n",
    "tekrar görüşmek üzere bye\"\"\")"
   ]
  },
  {
   "cell_type": "markdown",
   "metadata": {},
   "source": [
    "# String metotları"
   ]
  },
  {
   "cell_type": "code",
   "execution_count": null,
   "metadata": {},
   "outputs": [],
   "source": [
    "string = \"python\""
   ]
  },
  {
   "cell_type": "code",
   "execution_count": null,
   "metadata": {},
   "outputs": [],
   "source": [
    "print(dir(string))"
   ]
  },
  {
   "cell_type": "markdown",
   "metadata": {},
   "source": [
    "### upper()"
   ]
  },
  {
   "cell_type": "code",
   "execution_count": null,
   "metadata": {},
   "outputs": [],
   "source": [
    "string.upper()"
   ]
  },
  {
   "cell_type": "markdown",
   "metadata": {},
   "source": [
    "### lower()"
   ]
  },
  {
   "cell_type": "code",
   "execution_count": null,
   "metadata": {},
   "outputs": [],
   "source": [
    "\"iSTANBUL\".lower()"
   ]
  },
  {
   "cell_type": "markdown",
   "metadata": {},
   "source": [
    "### title()"
   ]
  },
  {
   "cell_type": "code",
   "execution_count": null,
   "metadata": {},
   "outputs": [],
   "source": [
    "\"MUSTAFA KEMAL ATATÜRK\".title()"
   ]
  },
  {
   "cell_type": "markdown",
   "metadata": {},
   "source": [
    "### strip()"
   ]
  },
  {
   "cell_type": "code",
   "execution_count": 15,
   "metadata": {},
   "outputs": [
    {
     "data": {
      "text/plain": [
       "'Merhaba Python Developer       '"
      ]
     },
     "execution_count": 15,
     "metadata": {},
     "output_type": "execute_result"
    }
   ],
   "source": [
    "mesaj = \"       Merhaba Python Developer       \"\n",
    "mesaj.lstrip()   # sola yaslar"
   ]
  },
  {
   "cell_type": "code",
   "execution_count": 16,
   "metadata": {},
   "outputs": [
    {
     "data": {
      "text/plain": [
       "'       Merhaba Python Developer'"
      ]
     },
     "execution_count": 16,
     "metadata": {},
     "output_type": "execute_result"
    }
   ],
   "source": [
    "mesaj = \"       Merhaba Python Developer       \"\n",
    "mesaj.rstrip()   # sağa yaslar"
   ]
  },
  {
   "cell_type": "code",
   "execution_count": 17,
   "metadata": {},
   "outputs": [
    {
     "data": {
      "text/plain": [
       "'Merhaba Python Developer'"
      ]
     },
     "execution_count": 17,
     "metadata": {},
     "output_type": "execute_result"
    }
   ],
   "source": [
    "mesaj = \"       Merhaba Python Developer       \"\n",
    "mesaj.strip()   # iki taraftan boşluğu siler"
   ]
  },
  {
   "cell_type": "code",
   "execution_count": null,
   "metadata": {},
   "outputs": [],
   "source": [
    "'  merhaba  '.lstrip()"
   ]
  },
  {
   "cell_type": "markdown",
   "metadata": {},
   "source": [
    "### split()"
   ]
  },
  {
   "cell_type": "code",
   "execution_count": null,
   "metadata": {},
   "outputs": [],
   "source": [
    "# split ile kelimelere bölelim\n",
    "cümle = \"Python blokları boşluk karakteriyle birbirinden ayrılır.\"\n",
    "kelimeler =cümle.split()\n",
    "print(kelimeler)"
   ]
  },
  {
   "cell_type": "markdown",
   "metadata": {},
   "source": [
    "### join()"
   ]
  },
  {
   "cell_type": "code",
   "execution_count": null,
   "metadata": {},
   "outputs": [],
   "source": [
    "# join ile tekrar birleştirme yapalım\n",
    "yeni_cümle = \" \".join(kelimeler)\n",
    "print(yeni_cümle)"
   ]
  },
  {
   "cell_type": "markdown",
   "metadata": {},
   "source": [
    "### in "
   ]
  },
  {
   "cell_type": "code",
   "execution_count": null,
   "metadata": {},
   "outputs": [],
   "source": [
    "\"p\" in \"python\""
   ]
  },
  {
   "cell_type": "markdown",
   "metadata": {},
   "source": [
    "## Format Strings"
   ]
  },
  {
   "cell_type": "markdown",
   "metadata": {},
   "source": [
    "### %"
   ]
  },
  {
   "cell_type": "code",
   "execution_count": null,
   "metadata": {},
   "outputs": [],
   "source": [
    "#Eski format şekli %s and %d ..\n",
    "yaş = 40\n",
    "isim = \"Resul\"\n",
    "print(\"Adım %s yaşım %d\" %(isim,yaş))"
   ]
  },
  {
   "cell_type": "markdown",
   "metadata": {},
   "source": [
    "### .format()"
   ]
  },
  {
   "cell_type": "code",
   "execution_count": null,
   "metadata": {
    "scrolled": true
   },
   "outputs": [],
   "source": [
    "# Python 3 ile yaygın kullanılan s.format() şekli\n",
    "\n",
    "yaş = 40\n",
    "isim = \"Resul\"\n",
    "print(\"Merhaba ben {} yaşım {}\".format(isim, yaş))\n",
    "print(\"Merhaba ben {1} yaşım {0}\".format(yaş, isim))"
   ]
  },
  {
   "cell_type": "code",
   "execution_count": null,
   "metadata": {},
   "outputs": [],
   "source": [
    "# Python 3.6 ve üst versiyonlarında geçerli olan \n",
    "# kullanışlı f'Strings' format şekli\n",
    "\n",
    "yaş = 18\n",
    "isim = \"Hakan\"\n",
    "print(f\"Merhaba ben {isim} yaşım {yaş}.\")"
   ]
  },
  {
   "cell_type": "markdown",
   "metadata": {},
   "source": [
    "### f-Strings"
   ]
  },
  {
   "cell_type": "code",
   "execution_count": null,
   "metadata": {},
   "outputs": [],
   "source": [
    "# f-Strings ile operatör kullanma"
   ]
  },
  {
   "cell_type": "code",
   "execution_count": null,
   "metadata": {},
   "outputs": [],
   "source": [
    "print(f'Beşin küpü {5*5}')\n",
    "a=10\n",
    "b=20\n",
    "print(f'bxa = {a*b:} | b-a = {b-a} | b/a = {b/a}')"
   ]
  },
  {
   "cell_type": "code",
   "execution_count": null,
   "metadata": {},
   "outputs": [],
   "source": [
    "# f-String ile fonksiyonları kullanma"
   ]
  },
  {
   "cell_type": "code",
   "execution_count": null,
   "metadata": {},
   "outputs": [],
   "source": [
    "isim = \"Kaan\"\n",
    "yaş = 4\n",
    "print(f'{isim.upper()} bir yıl içinde {yaş+1} olacak.') # print sonucuna da işlem yapılabilir"
   ]
  },
  {
   "cell_type": "markdown",
   "metadata": {},
   "source": [
    "# mini proje\n",
    "### Kelime arama"
   ]
  },
  {
   "cell_type": "code",
   "execution_count": null,
   "metadata": {},
   "outputs": [],
   "source": [
    "# kaynak:https://tr.wikipedia.org/wiki/Python_(programlama_dili) \n",
    "# text içerisinde kaç tane aradığımız kelimeden var bulalım. \n",
    "\n",
    "text = \"\"\"Geliştirilmeye 1990 yılında Guido van Rossum tarafından Amsterdam'da başlanmıştır. \n",
    "Adını sanılanın aksine bir yılandan değil Guido van Rossum’un çok sevdiği, Monty Python adlı altı kişilik bir İngiliz komedi grubunun Monty Python’s Flying Circus adlı gösterisinden almıştır. \n",
    "Günümüzde Python Yazılım Vakfı çevresinde toplanan gönüllülerin çabalarıyla sürdürülmektedir. \n",
    "Python 1.0 sürümüne Ocak 1994'te ulaşmıştır. Son kararlı sürümü, 2.x serisinde Python 2.7 ve 3.x serisinde Python 3.5.2'dir. \n",
    "3 Aralık 2008 tarihinden itibaren 3.x serisi yayınlanmaya başlamıştır; ancak 3.x serisi 2.x serisiyle uyumlu değildir.\n",
    "\"\"\""
   ]
  },
  {
   "cell_type": "code",
   "execution_count": null,
   "metadata": {},
   "outputs": [],
   "source": [
    "sayaç = 0                               # aradığımız kelime sayısını tutar\n",
    "aranan_kelime = \"python\"                # aranacak kelime değişkene atanır.\n",
    "\n",
    "text=text.lower()                       # hepsi küçültülmüştür.\n",
    "\n",
    "for kelime in text.split():             # split ile kelimelere ayrılmıştır\n",
    "    if kelime.startswith(aranan_kelime):\n",
    "        sayaç += 1\n",
    "        \n",
    "print(f'Text içinde toplam {sayaç} adet {aranan_kelime} vardır.')"
   ]
  },
  {
   "cell_type": "code",
   "execution_count": null,
   "metadata": {},
   "outputs": [],
   "source": []
  }
 ],
 "metadata": {
  "kernelspec": {
   "display_name": "Python 3",
   "language": "python",
   "name": "python3"
  },
  "language_info": {
   "codemirror_mode": {
    "name": "ipython",
    "version": 3
   },
   "file_extension": ".py",
   "mimetype": "text/x-python",
   "name": "python",
   "nbconvert_exporter": "python",
   "pygments_lexer": "ipython3",
   "version": "3.7.4"
  }
 },
 "nbformat": 4,
 "nbformat_minor": 4
}
