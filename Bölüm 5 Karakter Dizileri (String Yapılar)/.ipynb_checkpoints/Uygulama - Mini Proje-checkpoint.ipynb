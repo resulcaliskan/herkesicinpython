{
 "cells": [
  {
   "cell_type": "markdown",
   "metadata": {},
   "source": [
    "# Uygulama - Mini Proje\n",
    "### Text içinde kelime arama ve sayısını bulma"
   ]
  },
  {
   "cell_type": "code",
   "execution_count": 2,
   "metadata": {},
   "outputs": [],
   "source": [
    "# kaynak:https://tr.wikipedia.org/wiki/Python_(programlama_dili) \n",
    "# text içerisinde kullanıcının girdiği kelimeden kaç tane var bulalım. \n",
    "\n",
    "text = \"\"\"Geliştirilmeye 1990 yılında Guido van Rossum tarafından Amsterdam'da başlanmıştır. \n",
    "Adını sanılanın aksine bir yılandan değil Guido van Rossum’un çok sevdiği, Monty Python adlı altı kişilik bir İngiliz komedi grubunun Monty Python’s Flying Circus adlı gösterisinden almıştır. \n",
    "Günümüzde Python Yazılım Vakfı çevresinde toplanan gönüllülerin çabalarıyla sürdürülmektedir. \n",
    "Python 1.0 sürümüne Ocak 1994'te ulaşmıştır. Son kararlı sürümü, 2.x serisinde Python 2.7 ve 3.x serisinde Python 3.5.2'dir. \n",
    "3 Aralık 2008 tarihinden itibaren 3.x serisi yayınlanmaya başlamıştır; ancak 3.x serisi 2.x serisiyle uyumlu değildir.\n",
    "\"\"\""
   ]
  },
  {
   "cell_type": "code",
   "execution_count": 12,
   "metadata": {},
   "outputs": [
    {
     "name": "stdout",
     "output_type": "stream",
     "text": [
      "Aranacak kelime:guido\n"
     ]
    },
    {
     "data": {
      "text/plain": [
       "'Aradığınız guido kelimesinden 2 tane vardır.'"
      ]
     },
     "execution_count": 12,
     "metadata": {},
     "output_type": "execute_result"
    }
   ],
   "source": [
    "text = text.lower()                 # hepsi küçültülmüştür.\n",
    "liste = text.split()                # split ile kelimelere ayrılmış liste yapılmıitır.\n",
    "kelime = input('Aranacak kelime:')  # aranacak kelime değişkeni kullanıcıdan girmesi istenmiştir.\n",
    "sayaç = 0                           # aradığımız kelime sayısını tutar\n",
    "for item in liste:\n",
    "    if item.startswith(kelime):     # aradığımız kelime ile başlayan kelimeler bulunuştur.\n",
    "        sayaç += 1\n",
    "f\"Aradığınız {kelime} kelimesinden {sayaç} tane vardır.\""
   ]
  },
  {
   "cell_type": "code",
   "execution_count": 13,
   "metadata": {},
   "outputs": [
    {
     "name": "stdout",
     "output_type": "stream",
     "text": [
      "Aranacak kelime:guido\n"
     ]
    },
    {
     "data": {
      "text/plain": [
       "'Aradığınız guido kelimesinden 2 tane vardır.'"
      ]
     },
     "execution_count": 13,
     "metadata": {},
     "output_type": "execute_result"
    }
   ],
   "source": [
    "text = text.lower()                 # hepsi küçültülmüştür.\n",
    "liste = text.split()                # split ile kelimelere ayrılmış liste yapılmıitır.\n",
    "kelime = input('Aranacak kelime:')  # aranacak kelime değişkeni kullanıcıdan girmesi istenmiştir.\n",
    "sayaç = 0                           # aradığımız kelime sayısını tutar\n",
    "for item in liste:\n",
    "    if item == kelime:              # aradığımız kelimeye denk kelimeler bulunuştur.\n",
    "        sayaç += 1\n",
    "f\"Aradığınız {kelime} kelimesinden {sayaç} tane vardır.\""
   ]
  },
  {
   "cell_type": "code",
   "execution_count": 17,
   "metadata": {},
   "outputs": [
    {
     "name": "stdout",
     "output_type": "stream",
     "text": [
      "Aranacak kelime:guido\n"
     ]
    },
    {
     "data": {
      "text/plain": [
       "'Aradığınız guido kelimesinden 2 tane vardır.'"
      ]
     },
     "execution_count": 17,
     "metadata": {},
     "output_type": "execute_result"
    }
   ],
   "source": [
    "text = text.lower()\n",
    "#liste = text.split()\n",
    "kelime = input('Aranacak kelime:')\n",
    "sayaç = text.count(kelime)\n",
    "f\"Aradığınız {kelime} kelimesinden {sayaç} tane vardır.\""
   ]
  },
  {
   "cell_type": "code",
   "execution_count": 18,
   "metadata": {},
   "outputs": [
    {
     "name": "stdout",
     "output_type": "stream",
     "text": [
      "Aranacak kelime:guido\n"
     ]
    },
    {
     "data": {
      "text/plain": [
       "'Aradığınız  kelimeden 2 tane vardır.'"
      ]
     },
     "execution_count": 18,
     "metadata": {},
     "output_type": "execute_result"
    }
   ],
   "source": [
    "f\"Aradığınız  kelimeden {text.count(input('Aranacak kelime:'))} tane vardır.\""
   ]
  },
  {
   "cell_type": "code",
   "execution_count": null,
   "metadata": {},
   "outputs": [],
   "source": [
    "f\"Aradığınız kelimeden {text.count(input('Aranacak kelime:'))} tane vardır.\""
   ]
  },
  {
   "cell_type": "code",
   "execution_count": null,
   "metadata": {},
   "outputs": [],
   "source": []
  },
  {
   "cell_type": "code",
   "execution_count": null,
   "metadata": {},
   "outputs": [],
   "source": []
  }
 ],
 "metadata": {
  "kernelspec": {
   "display_name": "Python 3",
   "language": "python",
   "name": "python3"
  },
  "language_info": {
   "codemirror_mode": {
    "name": "ipython",
    "version": 3
   },
   "file_extension": ".py",
   "mimetype": "text/x-python",
   "name": "python",
   "nbconvert_exporter": "python",
   "pygments_lexer": "ipython3",
   "version": "3.7.4"
  }
 },
 "nbformat": 4,
 "nbformat_minor": 4
}
