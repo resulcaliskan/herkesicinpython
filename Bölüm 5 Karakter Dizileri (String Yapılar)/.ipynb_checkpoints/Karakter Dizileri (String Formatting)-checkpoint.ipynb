{
 "cells": [
  {
   "cell_type": "markdown",
   "metadata": {},
   "source": [
    "# Strings"
   ]
  },
  {
   "cell_type": "markdown",
   "metadata": {},
   "source": [
    "### escape karakterleri"
   ]
  },
  {
   "cell_type": "code",
   "execution_count": 1,
   "metadata": {},
   "outputs": [
    {
     "name": "stdout",
     "output_type": "stream",
     "text": [
      " ismi:Hakan\n",
      " mesleği:AI Engineer\n",
      " tecrübe: 10 yıl\n"
     ]
    }
   ],
   "source": [
    "print(\" İsmi:Hakan\\n Mesleği:AI Engineer\\n Tecrübe: 10 yıl\")"
   ]
  },
  {
   "cell_type": "code",
   "execution_count": 7,
   "metadata": {},
   "outputs": [
    {
     "name": "stdout",
     "output_type": "stream",
     "text": [
      "Atatürk,\"Ben sporcunun zeki, çevik ve aynı zamanda ahlaklı olanını severim.\"der\n"
     ]
    }
   ],
   "source": [
    "# ekrana yazdıralım Atatürk, \"Ben sporcunun zeki, çevik ve aynı zamanda ahlaklı olanını severim.\"der.\n"
   ]
  },
  {
   "cell_type": "markdown",
   "metadata": {},
   "source": [
    "### string birleştirme -concatination"
   ]
  },
  {
   "cell_type": "code",
   "execution_count": 35,
   "metadata": {},
   "outputs": [
    {
     "name": "stdout",
     "output_type": "stream",
     "text": [
      "PythonJavaScript\n"
     ]
    }
   ],
   "source": [
    "# str1 ve str2 birleştirelim\n",
    "str1 = 'Python'\n",
    "str2 = \"JavaScript\"\n",
    "print(str1+str2)"
   ]
  },
  {
   "cell_type": "code",
   "execution_count": 36,
   "metadata": {},
   "outputs": [
    {
     "name": "stdout",
     "output_type": "stream",
     "text": [
      "Python JavaScript\n"
     ]
    }
   ],
   "source": [
    "#Düzeltilmiş boşluk eklenmiş şekli ile aynı işlemi yapalım\n",
    "print(str1+\" \"+str2)"
   ]
  },
  {
   "cell_type": "markdown",
   "metadata": {},
   "source": [
    "### ''' text'''"
   ]
  },
  {
   "cell_type": "code",
   "execution_count": 8,
   "metadata": {},
   "outputs": [
    {
     "name": "stdout",
     "output_type": "stream",
     "text": [
      "\n",
      "Sevgili günlük,\n",
      "artık uzaktan online pyton eğitimi yapacağız\n",
      ".....\n",
      "tekrar görüşmek üzere bye\n"
     ]
    }
   ],
   "source": [
    "# metnin çıktısını yazıldığı gibi verir\n",
    "print(\"\"\"\n",
    "Sevgili günlük,\n",
    "artık uzaktan online pyton eğitimi yapacağız\n",
    ".....\n",
    "tekrar görüşmek üzere bye\"\"\")"
   ]
  },
  {
   "cell_type": "markdown",
   "metadata": {},
   "source": [
    "# String metotları"
   ]
  },
  {
   "cell_type": "code",
   "execution_count": 13,
   "metadata": {},
   "outputs": [],
   "source": [
    "string = \"python\""
   ]
  },
  {
   "cell_type": "code",
   "execution_count": 15,
   "metadata": {},
   "outputs": [
    {
     "name": "stdout",
     "output_type": "stream",
     "text": [
      "['__add__', '__class__', '__contains__', '__delattr__', '__dir__', '__doc__', '__eq__', '__format__', '__ge__', '__getattribute__', '__getitem__', '__getnewargs__', '__gt__', '__hash__', '__init__', '__init_subclass__', '__iter__', '__le__', '__len__', '__lt__', '__mod__', '__mul__', '__ne__', '__new__', '__reduce__', '__reduce_ex__', '__repr__', '__rmod__', '__rmul__', '__setattr__', '__sizeof__', '__str__', '__subclasshook__', 'capitalize', 'casefold', 'center', 'count', 'encode', 'endswith', 'expandtabs', 'find', 'format', 'format_map', 'index', 'isalnum', 'isalpha', 'isascii', 'isdecimal', 'isdigit', 'isidentifier', 'islower', 'isnumeric', 'isprintable', 'isspace', 'istitle', 'isupper', 'join', 'ljust', 'lower', 'lstrip', 'maketrans', 'partition', 'replace', 'rfind', 'rindex', 'rjust', 'rpartition', 'rsplit', 'rstrip', 'split', 'splitlines', 'startswith', 'strip', 'swapcase', 'title', 'translate', 'upper', 'zfill']\n"
     ]
    }
   ],
   "source": [
    "print(dir(string))"
   ]
  },
  {
   "cell_type": "markdown",
   "metadata": {},
   "source": [
    "### upper()"
   ]
  },
  {
   "cell_type": "code",
   "execution_count": 32,
   "metadata": {},
   "outputs": [
    {
     "data": {
      "text/plain": [
       "'PYTHON'"
      ]
     },
     "execution_count": 32,
     "metadata": {},
     "output_type": "execute_result"
    }
   ],
   "source": [
    "string.upper()"
   ]
  },
  {
   "cell_type": "markdown",
   "metadata": {},
   "source": [
    "### lower()"
   ]
  },
  {
   "cell_type": "code",
   "execution_count": 38,
   "metadata": {},
   "outputs": [
    {
     "data": {
      "text/plain": [
       "'istanbul'"
      ]
     },
     "execution_count": 38,
     "metadata": {},
     "output_type": "execute_result"
    }
   ],
   "source": [
    "\"iSTANBUL\".lower()"
   ]
  },
  {
   "cell_type": "markdown",
   "metadata": {},
   "source": [
    "### title()"
   ]
  },
  {
   "cell_type": "code",
   "execution_count": 33,
   "metadata": {},
   "outputs": [
    {
     "data": {
      "text/plain": [
       "'Mustafa Kemal Atatürk'"
      ]
     },
     "execution_count": 33,
     "metadata": {},
     "output_type": "execute_result"
    }
   ],
   "source": [
    "\"MUSTAFA KEMAL ATATÜRK\".title()"
   ]
  },
  {
   "cell_type": "markdown",
   "metadata": {},
   "source": [
    "### strip()"
   ]
  },
  {
   "cell_type": "code",
   "execution_count": 8,
   "metadata": {},
   "outputs": [
    {
     "data": {
      "text/plain": [
       "'Merhaba Python Developer       '"
      ]
     },
     "execution_count": 8,
     "metadata": {},
     "output_type": "execute_result"
    }
   ],
   "source": [
    "mesaj = \"       Merhaba Python Developer       \"\n",
    "mesaj.lstrip()   # sola yaslar"
   ]
  },
  {
   "cell_type": "code",
   "execution_count": 9,
   "metadata": {},
   "outputs": [
    {
     "data": {
      "text/plain": [
       "'       Merhaba Python Developer'"
      ]
     },
     "execution_count": 9,
     "metadata": {},
     "output_type": "execute_result"
    }
   ],
   "source": [
    "mesaj = \"       Merhaba Python Developer       \"\n",
    "mesaj.rstrip()   # sağa yaslar"
   ]
  },
  {
   "cell_type": "code",
   "execution_count": 10,
   "metadata": {},
   "outputs": [
    {
     "data": {
      "text/plain": [
       "'Merhaba Python Developer'"
      ]
     },
     "execution_count": 10,
     "metadata": {},
     "output_type": "execute_result"
    }
   ],
   "source": [
    "mesaj = \"       Merhaba Python Developer       \"\n",
    "mesaj.strip()   # iki taraftan boşluğu siler"
   ]
  },
  {
   "cell_type": "code",
   "execution_count": 12,
   "metadata": {},
   "outputs": [
    {
     "data": {
      "text/plain": [
       "'merhaba  '"
      ]
     },
     "execution_count": 12,
     "metadata": {},
     "output_type": "execute_result"
    }
   ],
   "source": [
    "'  merhaba  '.lstrip()"
   ]
  },
  {
   "cell_type": "markdown",
   "metadata": {},
   "source": [
    "### split()"
   ]
  },
  {
   "cell_type": "code",
   "execution_count": 49,
   "metadata": {},
   "outputs": [
    {
     "name": "stdout",
     "output_type": "stream",
     "text": [
      "['Python', 'blokları', 'boşluk', 'karakteriyle', 'birbirinden', 'ayrılır.']\n"
     ]
    }
   ],
   "source": [
    "# split ile kelimelere bölelim\n",
    "cümle = \"Python blokları boşluk karakteriyle birbirinden ayrılır.\"\n",
    "kelimeler =cümle.split()\n",
    "print(kelimeler)"
   ]
  },
  {
   "cell_type": "markdown",
   "metadata": {},
   "source": [
    "### join()"
   ]
  },
  {
   "cell_type": "code",
   "execution_count": 50,
   "metadata": {},
   "outputs": [
    {
     "name": "stdout",
     "output_type": "stream",
     "text": [
      "Python blokları boşluk karakteriyle birbirinden ayrılır.\n"
     ]
    }
   ],
   "source": [
    "# join ile tekrar birleştirme yapalım\n",
    "yeni_cümle = \" \".join(kelimeler)\n",
    "print(yeni_cümle)"
   ]
  },
  {
   "cell_type": "markdown",
   "metadata": {},
   "source": [
    "### in "
   ]
  },
  {
   "cell_type": "code",
   "execution_count": 10,
   "metadata": {},
   "outputs": [
    {
     "data": {
      "text/plain": [
       "True"
      ]
     },
     "execution_count": 10,
     "metadata": {},
     "output_type": "execute_result"
    }
   ],
   "source": [
    "\"p\" in \"python\""
   ]
  },
  {
   "cell_type": "markdown",
   "metadata": {},
   "source": [
    "## Format Strings"
   ]
  },
  {
   "cell_type": "markdown",
   "metadata": {},
   "source": [
    "### %"
   ]
  },
  {
   "cell_type": "code",
   "execution_count": 24,
   "metadata": {},
   "outputs": [
    {
     "name": "stdout",
     "output_type": "stream",
     "text": [
      "Adım Resul yaşım 40\n"
     ]
    }
   ],
   "source": [
    "#Eski format şekli %s and %d ..\n",
    "yaş = 40\n",
    "isim = \"Resul\"\n",
    "print(\"Adım %s yaşım %d\" %(isim,yaş))"
   ]
  },
  {
   "cell_type": "markdown",
   "metadata": {},
   "source": [
    "### .format()"
   ]
  },
  {
   "cell_type": "code",
   "execution_count": 28,
   "metadata": {
    "scrolled": true
   },
   "outputs": [
    {
     "name": "stdout",
     "output_type": "stream",
     "text": [
      "Merhaba ben Resul yaşım 40\n",
      "Merhaba ben Resul yaşım 40\n"
     ]
    }
   ],
   "source": [
    "# Python 3 ile yaygın kullanılan s.format() şekli\n",
    "\n",
    "yaş = 40\n",
    "isim = \"Resul\"\n",
    "print(\"Merhaba ben {} yaşım {}\".format(isim, yaş))\n",
    "print(\"Merhaba ben {1} yaşım {0}\".format(yaş, isim))"
   ]
  },
  {
   "cell_type": "code",
   "execution_count": 29,
   "metadata": {},
   "outputs": [
    {
     "name": "stdout",
     "output_type": "stream",
     "text": [
      "Merhaba ben Hakan yaşım 18.\n"
     ]
    }
   ],
   "source": [
    "# Python 3.6 ve üst versiyonlarında geçerli olan \n",
    "# kullanışlı f'Strings' format şekli\n",
    "\n",
    "yaş = 18\n",
    "isim = \"Hakan\"\n",
    "print(f\"Merhaba ben {isim} yaşım {yaş}.\")"
   ]
  },
  {
   "cell_type": "markdown",
   "metadata": {},
   "source": [
    "### f-Strings"
   ]
  },
  {
   "cell_type": "code",
   "execution_count": 31,
   "metadata": {},
   "outputs": [],
   "source": [
    "# f-Strings ile operatör kullanma"
   ]
  },
  {
   "cell_type": "code",
   "execution_count": 74,
   "metadata": {},
   "outputs": [
    {
     "name": "stdout",
     "output_type": "stream",
     "text": [
      "Beşin küpü 25\n",
      "bxa = 200   | b-a = 10 | b/a = 2.0\n"
     ]
    }
   ],
   "source": [
    "print(f'Beşin küpü {5*5}')\n",
    "a=10\n",
    "b=20\n",
    "print(f'bxa = {a*b:} | b-a = {b-a} | b/a = {b/a}')"
   ]
  },
  {
   "cell_type": "code",
   "execution_count": null,
   "metadata": {},
   "outputs": [],
   "source": [
    "# f-String ile fonksiyonları kullanma"
   ]
  },
  {
   "cell_type": "code",
   "execution_count": 79,
   "metadata": {},
   "outputs": [
    {
     "name": "stdout",
     "output_type": "stream",
     "text": [
      "KAAN bir yıl içinde 5 olacak.\n"
     ]
    }
   ],
   "source": [
    "isim = \"Kaan\"\n",
    "yaş = 4\n",
    "print(f'{isim.upper()} bir yıl içinde {yaş+1} olacak.') # print sonucuna da işlem yapılabilir"
   ]
  },
  {
   "cell_type": "markdown",
   "metadata": {},
   "source": [
    "# mini proje\n",
    "### Kelime arama"
   ]
  },
  {
   "cell_type": "code",
   "execution_count": 52,
   "metadata": {},
   "outputs": [],
   "source": [
    "# kaynak:https://tr.wikipedia.org/wiki/Python_(programlama_dili) \n",
    "# text içerisinde kaç tane aradığımız kelimeden var bulalım. \n",
    "\n",
    "text = \"\"\"Geliştirilmeye 1990 yılında Guido van Rossum tarafından Amsterdam'da başlanmıştır. \n",
    "Adını sanılanın aksine bir yılandan değil Guido van Rossum’un çok sevdiği, Monty Python adlı altı kişilik bir İngiliz komedi grubunun Monty Python’s Flying Circus adlı gösterisinden almıştır. \n",
    "Günümüzde Python Yazılım Vakfı çevresinde toplanan gönüllülerin çabalarıyla sürdürülmektedir. \n",
    "Python 1.0 sürümüne Ocak 1994'te ulaşmıştır. Son kararlı sürümü, 2.x serisinde Python 2.7 ve 3.x serisinde Python 3.5.2'dir. \n",
    "3 Aralık 2008 tarihinden itibaren 3.x serisi yayınlanmaya başlamıştır; ancak 3.x serisi 2.x serisiyle uyumlu değildir.\n",
    "\"\"\""
   ]
  },
  {
   "cell_type": "code",
   "execution_count": 80,
   "metadata": {},
   "outputs": [
    {
     "name": "stdout",
     "output_type": "stream",
     "text": [
      "Text içinde toplam 6 adet python vardır.\n"
     ]
    }
   ],
   "source": [
    "sayaç = 0                               # aradığımız kelime sayısını tutar\n",
    "aranan_kelime = \"python\"                # aranacak kelime değişkene atanır.\n",
    "\n",
    "text=text.lower()                       # hepsi küçültülmüştür.\n",
    "\n",
    "for kelime in text.split():             # split ile kelimelere ayrılmıştır\n",
    "    if kelime.startswith(aranan_kelime):\n",
    "        sayaç += 1\n",
    "        \n",
    "print(f'Text içinde toplam {sayaç} adet {aranan_kelime} vardır.')"
   ]
  },
  {
   "cell_type": "code",
   "execution_count": null,
   "metadata": {},
   "outputs": [],
   "source": []
  }
 ],
 "metadata": {
  "kernelspec": {
   "display_name": "Python 3",
   "language": "python",
   "name": "python3"
  },
  "language_info": {
   "codemirror_mode": {
    "name": "ipython",
    "version": 3
   },
   "file_extension": ".py",
   "mimetype": "text/x-python",
   "name": "python",
   "nbconvert_exporter": "python",
   "pygments_lexer": "ipython3",
   "version": "3.7.4"
  }
 },
 "nbformat": 4,
 "nbformat_minor": 4
}
