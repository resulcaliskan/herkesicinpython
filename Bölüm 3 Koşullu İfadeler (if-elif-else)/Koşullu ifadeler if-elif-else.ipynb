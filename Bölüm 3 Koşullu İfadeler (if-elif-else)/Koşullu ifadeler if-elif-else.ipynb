{
 "cells": [
  {
   "cell_type": "code",
   "execution_count": null,
   "metadata": {},
   "outputs": [],
   "source": []
  },
  {
   "cell_type": "code",
   "execution_count": null,
   "metadata": {},
   "outputs": [],
   "source": []
  },
  {
   "cell_type": "markdown",
   "metadata": {},
   "source": [
    "### is ve == operatörü"
   ]
  },
  {
   "cell_type": "code",
   "execution_count": 21,
   "metadata": {},
   "outputs": [],
   "source": [
    "# is ve == benzer olmalarına rağmen aralarında ufak bir fark vardır."
   ]
  },
  {
   "cell_type": "code",
   "execution_count": 16,
   "metadata": {},
   "outputs": [
    {
     "name": "stdout",
     "output_type": "stream",
     "text": [
      "güvenilir\n"
     ]
    }
   ],
   "source": [
    "dürüst = True\n",
    "ahmet = True\n",
    "\n",
    "if ahmet is dürüst:\n",
    "    print(\"güvenilir\")\n",
    "elif ahmet is not dürüst:\n",
    "    print(\"ahmet'e dikkat et\")\n",
    "#else:\n",
    "    #print(\"ahmeti tanımıyorum!!\")"
   ]
  },
  {
   "attachments": {},
   "cell_type": "markdown",
   "metadata": {},
   "source": [
    "### Ternary operator!\n"
   ]
  },
  {
   "cell_type": "code",
   "execution_count": 25,
   "metadata": {},
   "outputs": [
    {
     "name": "stdout",
     "output_type": "stream",
     "text": [
      "çoçuk\n"
     ]
    }
   ],
   "source": [
    "#<expression1> if <condition> else <expression2>\n",
    "yaş = 15\n",
    "\n",
    "print('çoçuk' if yaş < 18 else 'yetişkin')"
   ]
  },
  {
   "cell_type": "code",
   "execution_count": 32,
   "metadata": {},
   "outputs": [
    {
     "name": "stdout",
     "output_type": "stream",
     "text": [
      "ergen\n"
     ]
    }
   ],
   "source": [
    "print('çoçuk' if yaş < 13 else 'ergen' if yaş < 18 else 'yetişkin')"
   ]
  },
  {
   "cell_type": "code",
   "execution_count": 33,
   "metadata": {},
   "outputs": [
    {
     "name": "stdout",
     "output_type": "stream",
     "text": [
      "ergen\n"
     ]
    }
   ],
   "source": [
    "if yaş < 18:\n",
    "    if yaş < 13:\n",
    "        print('çoçuk')\n",
    "    else:\n",
    "        print('ergen')\n",
    "else:\n",
    "    print('yetişkin')"
   ]
  },
  {
   "cell_type": "code",
   "execution_count": null,
   "metadata": {},
   "outputs": [],
   "source": []
  }
 ],
 "metadata": {
  "kernelspec": {
   "display_name": "Python 3",
   "language": "python",
   "name": "python3"
  },
  "language_info": {
   "codemirror_mode": {
    "name": "ipython",
    "version": 3
   },
   "file_extension": ".py",
   "mimetype": "text/x-python",
   "name": "python",
   "nbconvert_exporter": "python",
   "pygments_lexer": "ipython3",
   "version": "3.7.4"
  }
 },
 "nbformat": 4,
 "nbformat_minor": 4
}
